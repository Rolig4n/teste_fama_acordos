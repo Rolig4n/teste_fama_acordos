{
 "cells": [
  {
   "cell_type": "markdown",
   "id": "1b9233c8-a441-4d6f-a1ee-8be8f0bfb375",
   "metadata": {},
   "source": [
    "# Estudo - inadimplentes "
   ]
  },
  {
   "cell_type": "markdown",
   "id": "c190b798-093e-4692-9bc9-b4c594c4a0e7",
   "metadata": {},
   "source": [
    "## Leitura dos dados via csv"
   ]
  },
  {
   "cell_type": "code",
   "execution_count": 1,
   "id": "27d75a19-2ba8-418b-a3d8-8a900cb1ee8a",
   "metadata": {},
   "outputs": [],
   "source": [
    "import pandas as pd"
   ]
  },
  {
   "cell_type": "markdown",
   "id": "7d4cebcb-a5ec-429c-9c17-29c8f0c4082d",
   "metadata": {},
   "source": [
    "- dados foram filtrados pela coligada (Fama) e data a partir de 01/01/2001 até 30/08/2024"
   ]
  },
  {
   "cell_type": "code",
   "execution_count": 9,
   "id": "901c4928-1c48-4f8e-8c8a-445b21f2e30f",
   "metadata": {},
   "outputs": [
    {
     "data": {
      "text/html": [
       "<div>\n",
       "<style scoped>\n",
       "    .dataframe tbody tr th:only-of-type {\n",
       "        vertical-align: middle;\n",
       "    }\n",
       "\n",
       "    .dataframe tbody tr th {\n",
       "        vertical-align: top;\n",
       "    }\n",
       "\n",
       "    .dataframe thead th {\n",
       "        text-align: right;\n",
       "    }\n",
       "</style>\n",
       "<table border=\"1\" class=\"dataframe\">\n",
       "  <thead>\n",
       "    <tr style=\"text-align: right;\">\n",
       "      <th></th>\n",
       "      <th>Nome</th>\n",
       "      <th>Telefone</th>\n",
       "      <th>CPF</th>\n",
       "      <th>Curso</th>\n",
       "      <th>Estado_civil</th>\n",
       "      <th>Sexo</th>\n",
       "      <th>DividaOriginal</th>\n",
       "      <th>DividaAtual</th>\n",
       "      <th>MenorDivida</th>\n",
       "      <th>MaiorDivida</th>\n",
       "      <th>VlrJuros</th>\n",
       "      <th>VlrMulta</th>\n",
       "      <th>VlrCorrecaoMonetaria</th>\n",
       "    </tr>\n",
       "  </thead>\n",
       "  <tbody>\n",
       "    <tr>\n",
       "      <th>0</th>\n",
       "      <td>Adevair Candido de Oliveira</td>\n",
       "      <td>NaN</td>\n",
       "      <td>029.631.541-94</td>\n",
       "      <td>NaN</td>\n",
       "      <td>NaN</td>\n",
       "      <td>NaN</td>\n",
       "      <td>7,00</td>\n",
       "      <td>7,00</td>\n",
       "      <td>7,00</td>\n",
       "      <td>7,00</td>\n",
       "      <td>0,00</td>\n",
       "      <td>0,00</td>\n",
       "      <td>0,00</td>\n",
       "    </tr>\n",
       "    <tr>\n",
       "      <th>1</th>\n",
       "      <td>Adriana Ferreira Paula Freitas</td>\n",
       "      <td>3434112444</td>\n",
       "      <td>742.436.676-91</td>\n",
       "      <td>NaN</td>\n",
       "      <td>NaN</td>\n",
       "      <td>NaN</td>\n",
       "      <td>1640,76</td>\n",
       "      <td>8283,783</td>\n",
       "      <td>2750,795</td>\n",
       "      <td>2771,378</td>\n",
       "      <td>5680,895</td>\n",
       "      <td>62,802</td>\n",
       "      <td>1499,327</td>\n",
       "    </tr>\n",
       "    <tr>\n",
       "      <th>2</th>\n",
       "      <td>Adriana Ribeiro de Figueiredo</td>\n",
       "      <td>34991947576</td>\n",
       "      <td>039.571.226-27</td>\n",
       "      <td>MBA em Gestão Departamento Pessoal e Rotinas T...</td>\n",
       "      <td>C</td>\n",
       "      <td>F</td>\n",
       "      <td>298,00</td>\n",
       "      <td>703,092</td>\n",
       "      <td>703,092</td>\n",
       "      <td>703,092</td>\n",
       "      <td>345,392</td>\n",
       "      <td>7,014</td>\n",
       "      <td>112,286</td>\n",
       "    </tr>\n",
       "    <tr>\n",
       "      <th>3</th>\n",
       "      <td>Adriano Silva</td>\n",
       "      <td>96992782</td>\n",
       "      <td>091.918.136-89</td>\n",
       "      <td>NaN</td>\n",
       "      <td>NaN</td>\n",
       "      <td>NaN</td>\n",
       "      <td>2942,75</td>\n",
       "      <td>9357,284</td>\n",
       "      <td>318,019</td>\n",
       "      <td>1879,332</td>\n",
       "      <td>5118,753</td>\n",
       "      <td>67,822</td>\n",
       "      <td>1928,999</td>\n",
       "    </tr>\n",
       "    <tr>\n",
       "      <th>4</th>\n",
       "      <td>Aida Maria de Faria Sobrinho</td>\n",
       "      <td>3499978466</td>\n",
       "      <td>806.406.216-00</td>\n",
       "      <td>Direito</td>\n",
       "      <td>I</td>\n",
       "      <td>F</td>\n",
       "      <td>226,50</td>\n",
       "      <td>226,50</td>\n",
       "      <td>75,50</td>\n",
       "      <td>75,50</td>\n",
       "      <td>0,00</td>\n",
       "      <td>0,00</td>\n",
       "      <td>0,00</td>\n",
       "    </tr>\n",
       "    <tr>\n",
       "      <th>...</th>\n",
       "      <td>...</td>\n",
       "      <td>...</td>\n",
       "      <td>...</td>\n",
       "      <td>...</td>\n",
       "      <td>...</td>\n",
       "      <td>...</td>\n",
       "      <td>...</td>\n",
       "      <td>...</td>\n",
       "      <td>...</td>\n",
       "      <td>...</td>\n",
       "      <td>...</td>\n",
       "      <td>...</td>\n",
       "      <td>...</td>\n",
       "    </tr>\n",
       "    <tr>\n",
       "      <th>717</th>\n",
       "      <td>Willian Andrade Ruel</td>\n",
       "      <td>3496511395</td>\n",
       "      <td>106.065.816-00</td>\n",
       "      <td>Engenharia Civil</td>\n",
       "      <td>NaN</td>\n",
       "      <td>M</td>\n",
       "      <td>829,26</td>\n",
       "      <td>829,26</td>\n",
       "      <td>86,11</td>\n",
       "      <td>104,20</td>\n",
       "      <td>0,00</td>\n",
       "      <td>0,00</td>\n",
       "      <td>0,00</td>\n",
       "    </tr>\n",
       "    <tr>\n",
       "      <th>718</th>\n",
       "      <td>WILLIAN CAETANO SILVA</td>\n",
       "      <td>3498235213</td>\n",
       "      <td>096.467.086-09</td>\n",
       "      <td>NaN</td>\n",
       "      <td>NaN</td>\n",
       "      <td>NaN</td>\n",
       "      <td>5470,83</td>\n",
       "      <td>21782,357</td>\n",
       "      <td>466,42</td>\n",
       "      <td>2820,566</td>\n",
       "      <td>12959,328</td>\n",
       "      <td>150,019</td>\n",
       "      <td>4202,18</td>\n",
       "    </tr>\n",
       "    <tr>\n",
       "      <th>719</th>\n",
       "      <td>WILLIAN FRANCIS DA SILVA</td>\n",
       "      <td>3434241439</td>\n",
       "      <td>103.561.706-40</td>\n",
       "      <td>NaN</td>\n",
       "      <td>NaN</td>\n",
       "      <td>NaN</td>\n",
       "      <td>3888,86</td>\n",
       "      <td>11829,393</td>\n",
       "      <td>10,915</td>\n",
       "      <td>1671,664</td>\n",
       "      <td>5517,467</td>\n",
       "      <td>62,968</td>\n",
       "      <td>2360,098</td>\n",
       "    </tr>\n",
       "    <tr>\n",
       "      <th>720</th>\n",
       "      <td>Wyk Érisson Macedo Oliveira</td>\n",
       "      <td>3434150424</td>\n",
       "      <td>137.908.486-54</td>\n",
       "      <td>Ciências Contábeis</td>\n",
       "      <td>C</td>\n",
       "      <td>M</td>\n",
       "      <td>3083,93</td>\n",
       "      <td>3738,249</td>\n",
       "      <td>595,274</td>\n",
       "      <td>969,837</td>\n",
       "      <td>361,727</td>\n",
       "      <td>66,268</td>\n",
       "      <td>229,444</td>\n",
       "    </tr>\n",
       "    <tr>\n",
       "      <th>721</th>\n",
       "      <td>ZAINE GOMES GONÇALVES JUNQUEIRA</td>\n",
       "      <td>34999680277</td>\n",
       "      <td>060.668.656-84</td>\n",
       "      <td>NaN</td>\n",
       "      <td>NaN</td>\n",
       "      <td>NaN</td>\n",
       "      <td>1313,81</td>\n",
       "      <td>7309,428</td>\n",
       "      <td>10,915</td>\n",
       "      <td>1433,28</td>\n",
       "      <td>4722,128</td>\n",
       "      <td>47,012</td>\n",
       "      <td>1226,479</td>\n",
       "    </tr>\n",
       "  </tbody>\n",
       "</table>\n",
       "<p>722 rows × 13 columns</p>\n",
       "</div>"
      ],
      "text/plain": [
       "                                Nome     Telefone             CPF  \\\n",
       "0        Adevair Candido de Oliveira          NaN  029.631.541-94   \n",
       "1     Adriana Ferreira Paula Freitas   3434112444  742.436.676-91   \n",
       "2      Adriana Ribeiro de Figueiredo  34991947576  039.571.226-27   \n",
       "3                      Adriano Silva     96992782  091.918.136-89   \n",
       "4       Aida Maria de Faria Sobrinho   3499978466  806.406.216-00   \n",
       "..                               ...          ...             ...   \n",
       "717             Willian Andrade Ruel   3496511395  106.065.816-00   \n",
       "718            WILLIAN CAETANO SILVA   3498235213  096.467.086-09   \n",
       "719         WILLIAN FRANCIS DA SILVA   3434241439  103.561.706-40   \n",
       "720      Wyk Érisson Macedo Oliveira   3434150424  137.908.486-54   \n",
       "721  ZAINE GOMES GONÇALVES JUNQUEIRA  34999680277  060.668.656-84   \n",
       "\n",
       "                                                 Curso Estado_civil Sexo  \\\n",
       "0                                                  NaN          NaN  NaN   \n",
       "1                                                  NaN          NaN  NaN   \n",
       "2    MBA em Gestão Departamento Pessoal e Rotinas T...            C    F   \n",
       "3                                                  NaN          NaN  NaN   \n",
       "4                                              Direito            I    F   \n",
       "..                                                 ...          ...  ...   \n",
       "717                                   Engenharia Civil          NaN    M   \n",
       "718                                                NaN          NaN  NaN   \n",
       "719                                                NaN          NaN  NaN   \n",
       "720                                 Ciências Contábeis            C    M   \n",
       "721                                                NaN          NaN  NaN   \n",
       "\n",
       "    DividaOriginal DividaAtual MenorDivida MaiorDivida   VlrJuros VlrMulta  \\\n",
       "0             7,00        7,00        7,00        7,00       0,00     0,00   \n",
       "1          1640,76    8283,783    2750,795    2771,378   5680,895   62,802   \n",
       "2           298,00     703,092     703,092     703,092    345,392    7,014   \n",
       "3          2942,75    9357,284     318,019    1879,332   5118,753   67,822   \n",
       "4           226,50      226,50       75,50       75,50       0,00     0,00   \n",
       "..             ...         ...         ...         ...        ...      ...   \n",
       "717         829,26      829,26       86,11      104,20       0,00     0,00   \n",
       "718        5470,83   21782,357      466,42    2820,566  12959,328  150,019   \n",
       "719        3888,86   11829,393      10,915    1671,664   5517,467   62,968   \n",
       "720        3083,93    3738,249     595,274     969,837    361,727   66,268   \n",
       "721        1313,81    7309,428      10,915     1433,28   4722,128   47,012   \n",
       "\n",
       "    VlrCorrecaoMonetaria  \n",
       "0                   0,00  \n",
       "1               1499,327  \n",
       "2                112,286  \n",
       "3               1928,999  \n",
       "4                   0,00  \n",
       "..                   ...  \n",
       "717                 0,00  \n",
       "718              4202,18  \n",
       "719             2360,098  \n",
       "720              229,444  \n",
       "721             1226,479  \n",
       "\n",
       "[722 rows x 13 columns]"
      ]
     },
     "execution_count": 9,
     "metadata": {},
     "output_type": "execute_result"
    }
   ],
   "source": [
    "dados_inadimplentes  = pd.read_csv(\"dados_inadinplentes_fama.csv\", sep=\";\")\n",
    "dados_inadimplentes.columns = [\"Nome\", \"Telefone\", \"CPF\", \"Curso\", \"Estado_civil\", \"Sexo\", \"DividaOriginal\", \"DividaAtual\", \"MenorDivida\", \"MaiorDivida\", \"VlrJuros\", \"VlrMulta\", \"VlrCorrecaoMonetaria\",]\n",
    "dados_inadimplentes"
   ]
  },
  {
   "cell_type": "code",
   "execution_count": 11,
   "id": "dfde8eab-aaaf-48b1-bb3f-6fffc095f708",
   "metadata": {},
   "outputs": [
    {
     "name": "stdout",
     "output_type": "stream",
     "text": [
      "<class 'pandas.core.frame.DataFrame'>\n",
      "RangeIndex: 722 entries, 0 to 721\n",
      "Data columns (total 13 columns):\n",
      " #   Column                Non-Null Count  Dtype \n",
      "---  ------                --------------  ----- \n",
      " 0   Nome                  722 non-null    object\n",
      " 1   Telefone              678 non-null    object\n",
      " 2   CPF                   722 non-null    object\n",
      " 3   Curso                 454 non-null    object\n",
      " 4   Estado_civil          408 non-null    object\n",
      " 5   Sexo                  455 non-null    object\n",
      " 6   DividaOriginal        722 non-null    object\n",
      " 7   DividaAtual           722 non-null    object\n",
      " 8   MenorDivida           722 non-null    object\n",
      " 9   MaiorDivida           722 non-null    object\n",
      " 10  VlrJuros              722 non-null    object\n",
      " 11  VlrMulta              722 non-null    object\n",
      " 12  VlrCorrecaoMonetaria  722 non-null    object\n",
      "dtypes: object(13)\n",
      "memory usage: 73.5+ KB\n"
     ]
    }
   ],
   "source": [
    "dados_inadimplentes.info()"
   ]
  },
  {
   "cell_type": "markdown",
   "id": "19ffd3c1-199e-45e5-96b9-3e1d19203071",
   "metadata": {},
   "source": [
    "### Dados Limpos e não vazios"
   ]
  },
  {
   "cell_type": "code",
   "execution_count": 103,
   "id": "d2d21af2-8ca1-45bc-8ab1-b97802737853",
   "metadata": {},
   "outputs": [
    {
     "data": {
      "text/html": [
       "<div>\n",
       "<style scoped>\n",
       "    .dataframe tbody tr th:only-of-type {\n",
       "        vertical-align: middle;\n",
       "    }\n",
       "\n",
       "    .dataframe tbody tr th {\n",
       "        vertical-align: top;\n",
       "    }\n",
       "\n",
       "    .dataframe thead th {\n",
       "        text-align: right;\n",
       "    }\n",
       "</style>\n",
       "<table border=\"1\" class=\"dataframe\">\n",
       "  <thead>\n",
       "    <tr style=\"text-align: right;\">\n",
       "      <th></th>\n",
       "      <th>level_0</th>\n",
       "      <th>index</th>\n",
       "      <th>Nome</th>\n",
       "      <th>Telefone</th>\n",
       "      <th>CPF</th>\n",
       "      <th>Curso</th>\n",
       "      <th>Estado_civil</th>\n",
       "      <th>Sexo</th>\n",
       "      <th>DividaOriginal</th>\n",
       "      <th>DividaAtual</th>\n",
       "      <th>MenorDivida</th>\n",
       "      <th>MaiorDivida</th>\n",
       "      <th>VlrJuros</th>\n",
       "      <th>VlrMulta</th>\n",
       "      <th>VlrCorrecaoMonetaria</th>\n",
       "    </tr>\n",
       "  </thead>\n",
       "  <tbody>\n",
       "    <tr>\n",
       "      <th>0</th>\n",
       "      <td>0</td>\n",
       "      <td>2</td>\n",
       "      <td>Adriana Ribeiro de Figueiredo</td>\n",
       "      <td>34991947576</td>\n",
       "      <td>039.571.226-27</td>\n",
       "      <td>MBA em Gestão Departamento Pessoal e Rotinas T...</td>\n",
       "      <td>C</td>\n",
       "      <td>F</td>\n",
       "      <td>298,00</td>\n",
       "      <td>703,092</td>\n",
       "      <td>703,092</td>\n",
       "      <td>703,092</td>\n",
       "      <td>345,392</td>\n",
       "      <td>7,014</td>\n",
       "      <td>112,286</td>\n",
       "    </tr>\n",
       "    <tr>\n",
       "      <th>1</th>\n",
       "      <td>1</td>\n",
       "      <td>4</td>\n",
       "      <td>Aida Maria de Faria Sobrinho</td>\n",
       "      <td>3499978466</td>\n",
       "      <td>806.406.216-00</td>\n",
       "      <td>Direito</td>\n",
       "      <td>I</td>\n",
       "      <td>F</td>\n",
       "      <td>226,50</td>\n",
       "      <td>226,50</td>\n",
       "      <td>75,50</td>\n",
       "      <td>75,50</td>\n",
       "      <td>0,00</td>\n",
       "      <td>0,00</td>\n",
       "      <td>0,00</td>\n",
       "    </tr>\n",
       "    <tr>\n",
       "      <th>2</th>\n",
       "      <td>2</td>\n",
       "      <td>5</td>\n",
       "      <td>Airton Augusto</td>\n",
       "      <td>3434115260</td>\n",
       "      <td>035.188.378-93</td>\n",
       "      <td>Engenharia Civil</td>\n",
       "      <td>C</td>\n",
       "      <td>M</td>\n",
       "      <td>829,26</td>\n",
       "      <td>829,26</td>\n",
       "      <td>86,11</td>\n",
       "      <td>104,20</td>\n",
       "      <td>0,00</td>\n",
       "      <td>0,00</td>\n",
       "      <td>0,00</td>\n",
       "    </tr>\n",
       "    <tr>\n",
       "      <th>3</th>\n",
       "      <td>3</td>\n",
       "      <td>8</td>\n",
       "      <td>Alessandra Aparecida de Oliveira</td>\n",
       "      <td>34999740386</td>\n",
       "      <td>320.771.428-55</td>\n",
       "      <td>Direito</td>\n",
       "      <td>S</td>\n",
       "      <td>F</td>\n",
       "      <td>3869,64</td>\n",
       "      <td>13142,878</td>\n",
       "      <td>74,964</td>\n",
       "      <td>2634,149</td>\n",
       "      <td>6945,38</td>\n",
       "      <td>120,05</td>\n",
       "      <td>2207,808</td>\n",
       "    </tr>\n",
       "    <tr>\n",
       "      <th>4</th>\n",
       "      <td>4</td>\n",
       "      <td>9</td>\n",
       "      <td>Alessandra Divino Almeida</td>\n",
       "      <td>3499682176</td>\n",
       "      <td>039.315.766-04</td>\n",
       "      <td>Administração</td>\n",
       "      <td>C</td>\n",
       "      <td>F</td>\n",
       "      <td>503,76</td>\n",
       "      <td>503,76</td>\n",
       "      <td>83,96</td>\n",
       "      <td>83,96</td>\n",
       "      <td>0,00</td>\n",
       "      <td>0,00</td>\n",
       "      <td>0,00</td>\n",
       "    </tr>\n",
       "    <tr>\n",
       "      <th>...</th>\n",
       "      <td>...</td>\n",
       "      <td>...</td>\n",
       "      <td>...</td>\n",
       "      <td>...</td>\n",
       "      <td>...</td>\n",
       "      <td>...</td>\n",
       "      <td>...</td>\n",
       "      <td>...</td>\n",
       "      <td>...</td>\n",
       "      <td>...</td>\n",
       "      <td>...</td>\n",
       "      <td>...</td>\n",
       "      <td>...</td>\n",
       "      <td>...</td>\n",
       "      <td>...</td>\n",
       "    </tr>\n",
       "    <tr>\n",
       "      <th>377</th>\n",
       "      <td>377</td>\n",
       "      <td>710</td>\n",
       "      <td>Weder Jose Nunes Leal</td>\n",
       "      <td>34997691737</td>\n",
       "      <td>067.418.826-85</td>\n",
       "      <td>Ciências Contábeis</td>\n",
       "      <td>S</td>\n",
       "      <td>M</td>\n",
       "      <td>2357,77</td>\n",
       "      <td>3009,043</td>\n",
       "      <td>418,911</td>\n",
       "      <td>440,654</td>\n",
       "      <td>429,271</td>\n",
       "      <td>50,664</td>\n",
       "      <td>175,418</td>\n",
       "    </tr>\n",
       "    <tr>\n",
       "      <th>378</th>\n",
       "      <td>378</td>\n",
       "      <td>711</td>\n",
       "      <td>Wellington Lourenço da Silva</td>\n",
       "      <td>3434113641</td>\n",
       "      <td>041.396.646-14</td>\n",
       "      <td>Engenharia Civil</td>\n",
       "      <td>S</td>\n",
       "      <td>M</td>\n",
       "      <td>86,11</td>\n",
       "      <td>86,11</td>\n",
       "      <td>86,11</td>\n",
       "      <td>86,11</td>\n",
       "      <td>0,00</td>\n",
       "      <td>0,00</td>\n",
       "      <td>0,00</td>\n",
       "    </tr>\n",
       "    <tr>\n",
       "      <th>379</th>\n",
       "      <td>379</td>\n",
       "      <td>712</td>\n",
       "      <td>Wellington Silva Macedo</td>\n",
       "      <td>3434124445</td>\n",
       "      <td>051.435.626-00</td>\n",
       "      <td>Direito</td>\n",
       "      <td>S</td>\n",
       "      <td>M</td>\n",
       "      <td>274,08</td>\n",
       "      <td>274,08</td>\n",
       "      <td>91,36</td>\n",
       "      <td>91,36</td>\n",
       "      <td>0,00</td>\n",
       "      <td>0,00</td>\n",
       "      <td>0,00</td>\n",
       "    </tr>\n",
       "    <tr>\n",
       "      <th>380</th>\n",
       "      <td>380</td>\n",
       "      <td>716</td>\n",
       "      <td>Wilker Silva Mendes</td>\n",
       "      <td>03498022508</td>\n",
       "      <td>067.914.806-02</td>\n",
       "      <td>Engenharia Civil</td>\n",
       "      <td>S</td>\n",
       "      <td>M</td>\n",
       "      <td>4344,75</td>\n",
       "      <td>14903,422</td>\n",
       "      <td>2953,944</td>\n",
       "      <td>3004,14</td>\n",
       "      <td>7920,922</td>\n",
       "      <td>136,912</td>\n",
       "      <td>2500,838</td>\n",
       "    </tr>\n",
       "    <tr>\n",
       "      <th>381</th>\n",
       "      <td>381</td>\n",
       "      <td>720</td>\n",
       "      <td>Wyk Érisson Macedo Oliveira</td>\n",
       "      <td>3434150424</td>\n",
       "      <td>137.908.486-54</td>\n",
       "      <td>Ciências Contábeis</td>\n",
       "      <td>C</td>\n",
       "      <td>M</td>\n",
       "      <td>3083,93</td>\n",
       "      <td>3738,249</td>\n",
       "      <td>595,274</td>\n",
       "      <td>969,837</td>\n",
       "      <td>361,727</td>\n",
       "      <td>66,268</td>\n",
       "      <td>229,444</td>\n",
       "    </tr>\n",
       "  </tbody>\n",
       "</table>\n",
       "<p>382 rows × 15 columns</p>\n",
       "</div>"
      ],
      "text/plain": [
       "     level_0  index                              Nome     Telefone  \\\n",
       "0          0      2     Adriana Ribeiro de Figueiredo  34991947576   \n",
       "1          1      4      Aida Maria de Faria Sobrinho   3499978466   \n",
       "2          2      5                    Airton Augusto   3434115260   \n",
       "3          3      8  Alessandra Aparecida de Oliveira  34999740386   \n",
       "4          4      9         Alessandra Divino Almeida   3499682176   \n",
       "..       ...    ...                               ...          ...   \n",
       "377      377    710             Weder Jose Nunes Leal  34997691737   \n",
       "378      378    711      Wellington Lourenço da Silva   3434113641   \n",
       "379      379    712           Wellington Silva Macedo   3434124445   \n",
       "380      380    716               Wilker Silva Mendes  03498022508   \n",
       "381      381    720       Wyk Érisson Macedo Oliveira   3434150424   \n",
       "\n",
       "                CPF                                              Curso  \\\n",
       "0    039.571.226-27  MBA em Gestão Departamento Pessoal e Rotinas T...   \n",
       "1    806.406.216-00                                            Direito   \n",
       "2    035.188.378-93                                   Engenharia Civil   \n",
       "3    320.771.428-55                                            Direito   \n",
       "4    039.315.766-04                                      Administração   \n",
       "..              ...                                                ...   \n",
       "377  067.418.826-85                                 Ciências Contábeis   \n",
       "378  041.396.646-14                                   Engenharia Civil   \n",
       "379  051.435.626-00                                            Direito   \n",
       "380  067.914.806-02                                   Engenharia Civil   \n",
       "381  137.908.486-54                                 Ciências Contábeis   \n",
       "\n",
       "    Estado_civil Sexo DividaOriginal DividaAtual MenorDivida MaiorDivida  \\\n",
       "0              C    F         298,00     703,092     703,092     703,092   \n",
       "1              I    F         226,50      226,50       75,50       75,50   \n",
       "2              C    M         829,26      829,26       86,11      104,20   \n",
       "3              S    F        3869,64   13142,878      74,964    2634,149   \n",
       "4              C    F         503,76      503,76       83,96       83,96   \n",
       "..           ...  ...            ...         ...         ...         ...   \n",
       "377            S    M        2357,77    3009,043     418,911     440,654   \n",
       "378            S    M          86,11       86,11       86,11       86,11   \n",
       "379            S    M         274,08      274,08       91,36       91,36   \n",
       "380            S    M        4344,75   14903,422    2953,944     3004,14   \n",
       "381            C    M        3083,93    3738,249     595,274     969,837   \n",
       "\n",
       "     VlrJuros VlrMulta VlrCorrecaoMonetaria  \n",
       "0     345,392    7,014              112,286  \n",
       "1        0,00     0,00                 0,00  \n",
       "2        0,00     0,00                 0,00  \n",
       "3     6945,38   120,05             2207,808  \n",
       "4        0,00     0,00                 0,00  \n",
       "..        ...      ...                  ...  \n",
       "377   429,271   50,664              175,418  \n",
       "378      0,00     0,00                 0,00  \n",
       "379      0,00     0,00                 0,00  \n",
       "380  7920,922  136,912             2500,838  \n",
       "381   361,727   66,268              229,444  \n",
       "\n",
       "[382 rows x 15 columns]"
      ]
     },
     "execution_count": 103,
     "metadata": {},
     "output_type": "execute_result"
    }
   ],
   "source": [
    "dados_inadimplentes = dados_inadimplentes.dropna().reset_index()\n",
    "dados_inadimplentes"
   ]
  },
  {
   "cell_type": "markdown",
   "id": "98ce53be-6c53-4ed4-b709-99e5e4abf9ee",
   "metadata": {},
   "source": [
    "### Divisão demografica simples - por sexo"
   ]
  },
  {
   "cell_type": "code",
   "execution_count": 97,
   "id": "97af4d32-d052-413b-b343-83e3c212ba70",
   "metadata": {},
   "outputs": [
    {
     "data": {
      "text/html": [
       "<div>\n",
       "<style scoped>\n",
       "    .dataframe tbody tr th:only-of-type {\n",
       "        vertical-align: middle;\n",
       "    }\n",
       "\n",
       "    .dataframe tbody tr th {\n",
       "        vertical-align: top;\n",
       "    }\n",
       "\n",
       "    .dataframe thead th {\n",
       "        text-align: right;\n",
       "    }\n",
       "</style>\n",
       "<table border=\"1\" class=\"dataframe\">\n",
       "  <thead>\n",
       "    <tr style=\"text-align: right;\">\n",
       "      <th></th>\n",
       "      <th>Sexo</th>\n",
       "      <th>divida</th>\n",
       "    </tr>\n",
       "  </thead>\n",
       "  <tbody>\n",
       "    <tr>\n",
       "      <th>1</th>\n",
       "      <td>F</td>\n",
       "      <td>215</td>\n",
       "    </tr>\n",
       "    <tr>\n",
       "      <th>0</th>\n",
       "      <td>M</td>\n",
       "      <td>167</td>\n",
       "    </tr>\n",
       "  </tbody>\n",
       "</table>\n",
       "</div>"
      ],
      "text/plain": [
       "  Sexo  divida\n",
       "1    F     215\n",
       "0    M     167"
      ]
     },
     "execution_count": 97,
     "metadata": {},
     "output_type": "execute_result"
    }
   ],
   "source": [
    "dados_por_sexo = dados_inadimplentes.value_counts().groupby([\"Sexo\"]).count().sort_values(ascending=True).to_frame(\"divida\").reset_index() \n",
    "dados_por_sexo = dados_por_sexo.sort_values(by=[\"Sexo\"])\n",
    "dados_por_sexo"
   ]
  },
  {
   "cell_type": "code",
   "execution_count": 56,
   "id": "d46623a2-0e68-45db-9385-d7afdd32d68a",
   "metadata": {},
   "outputs": [
    {
     "data": {
      "application/vnd.plotly.v1+json": {
       "config": {
        "plotlyServerURL": "https://plot.ly"
       },
       "data": [
        {
         "alignmentgroup": "True",
         "hovertemplate": "Sexo=%{x}<br>divida=%{y}<extra></extra>",
         "legendgroup": "",
         "marker": {
          "color": "#636efa",
          "pattern": {
           "shape": ""
          }
         },
         "name": "",
         "offsetgroup": "",
         "orientation": "v",
         "showlegend": false,
         "textposition": "auto",
         "type": "bar",
         "x": [
          "F",
          "M"
         ],
         "xaxis": "x",
         "y": [
          215,
          167
         ],
         "yaxis": "y"
        }
       ],
       "layout": {
        "autosize": true,
        "barmode": "relative",
        "legend": {
         "tracegroupgap": 0
        },
        "margin": {
         "t": 60
        },
        "template": {
         "data": {
          "bar": [
           {
            "error_x": {
             "color": "#2a3f5f"
            },
            "error_y": {
             "color": "#2a3f5f"
            },
            "marker": {
             "line": {
              "color": "#E5ECF6",
              "width": 0.5
             },
             "pattern": {
              "fillmode": "overlay",
              "size": 10,
              "solidity": 0.2
             }
            },
            "type": "bar"
           }
          ],
          "barpolar": [
           {
            "marker": {
             "line": {
              "color": "#E5ECF6",
              "width": 0.5
             },
             "pattern": {
              "fillmode": "overlay",
              "size": 10,
              "solidity": 0.2
             }
            },
            "type": "barpolar"
           }
          ],
          "carpet": [
           {
            "aaxis": {
             "endlinecolor": "#2a3f5f",
             "gridcolor": "white",
             "linecolor": "white",
             "minorgridcolor": "white",
             "startlinecolor": "#2a3f5f"
            },
            "baxis": {
             "endlinecolor": "#2a3f5f",
             "gridcolor": "white",
             "linecolor": "white",
             "minorgridcolor": "white",
             "startlinecolor": "#2a3f5f"
            },
            "type": "carpet"
           }
          ],
          "choropleth": [
           {
            "colorbar": {
             "outlinewidth": 0,
             "ticks": ""
            },
            "type": "choropleth"
           }
          ],
          "contour": [
           {
            "colorbar": {
             "outlinewidth": 0,
             "ticks": ""
            },
            "colorscale": [
             [
              0,
              "#0d0887"
             ],
             [
              0.1111111111111111,
              "#46039f"
             ],
             [
              0.2222222222222222,
              "#7201a8"
             ],
             [
              0.3333333333333333,
              "#9c179e"
             ],
             [
              0.4444444444444444,
              "#bd3786"
             ],
             [
              0.5555555555555556,
              "#d8576b"
             ],
             [
              0.6666666666666666,
              "#ed7953"
             ],
             [
              0.7777777777777778,
              "#fb9f3a"
             ],
             [
              0.8888888888888888,
              "#fdca26"
             ],
             [
              1,
              "#f0f921"
             ]
            ],
            "type": "contour"
           }
          ],
          "contourcarpet": [
           {
            "colorbar": {
             "outlinewidth": 0,
             "ticks": ""
            },
            "type": "contourcarpet"
           }
          ],
          "heatmap": [
           {
            "colorbar": {
             "outlinewidth": 0,
             "ticks": ""
            },
            "colorscale": [
             [
              0,
              "#0d0887"
             ],
             [
              0.1111111111111111,
              "#46039f"
             ],
             [
              0.2222222222222222,
              "#7201a8"
             ],
             [
              0.3333333333333333,
              "#9c179e"
             ],
             [
              0.4444444444444444,
              "#bd3786"
             ],
             [
              0.5555555555555556,
              "#d8576b"
             ],
             [
              0.6666666666666666,
              "#ed7953"
             ],
             [
              0.7777777777777778,
              "#fb9f3a"
             ],
             [
              0.8888888888888888,
              "#fdca26"
             ],
             [
              1,
              "#f0f921"
             ]
            ],
            "type": "heatmap"
           }
          ],
          "heatmapgl": [
           {
            "colorbar": {
             "outlinewidth": 0,
             "ticks": ""
            },
            "colorscale": [
             [
              0,
              "#0d0887"
             ],
             [
              0.1111111111111111,
              "#46039f"
             ],
             [
              0.2222222222222222,
              "#7201a8"
             ],
             [
              0.3333333333333333,
              "#9c179e"
             ],
             [
              0.4444444444444444,
              "#bd3786"
             ],
             [
              0.5555555555555556,
              "#d8576b"
             ],
             [
              0.6666666666666666,
              "#ed7953"
             ],
             [
              0.7777777777777778,
              "#fb9f3a"
             ],
             [
              0.8888888888888888,
              "#fdca26"
             ],
             [
              1,
              "#f0f921"
             ]
            ],
            "type": "heatmapgl"
           }
          ],
          "histogram": [
           {
            "marker": {
             "pattern": {
              "fillmode": "overlay",
              "size": 10,
              "solidity": 0.2
             }
            },
            "type": "histogram"
           }
          ],
          "histogram2d": [
           {
            "colorbar": {
             "outlinewidth": 0,
             "ticks": ""
            },
            "colorscale": [
             [
              0,
              "#0d0887"
             ],
             [
              0.1111111111111111,
              "#46039f"
             ],
             [
              0.2222222222222222,
              "#7201a8"
             ],
             [
              0.3333333333333333,
              "#9c179e"
             ],
             [
              0.4444444444444444,
              "#bd3786"
             ],
             [
              0.5555555555555556,
              "#d8576b"
             ],
             [
              0.6666666666666666,
              "#ed7953"
             ],
             [
              0.7777777777777778,
              "#fb9f3a"
             ],
             [
              0.8888888888888888,
              "#fdca26"
             ],
             [
              1,
              "#f0f921"
             ]
            ],
            "type": "histogram2d"
           }
          ],
          "histogram2dcontour": [
           {
            "colorbar": {
             "outlinewidth": 0,
             "ticks": ""
            },
            "colorscale": [
             [
              0,
              "#0d0887"
             ],
             [
              0.1111111111111111,
              "#46039f"
             ],
             [
              0.2222222222222222,
              "#7201a8"
             ],
             [
              0.3333333333333333,
              "#9c179e"
             ],
             [
              0.4444444444444444,
              "#bd3786"
             ],
             [
              0.5555555555555556,
              "#d8576b"
             ],
             [
              0.6666666666666666,
              "#ed7953"
             ],
             [
              0.7777777777777778,
              "#fb9f3a"
             ],
             [
              0.8888888888888888,
              "#fdca26"
             ],
             [
              1,
              "#f0f921"
             ]
            ],
            "type": "histogram2dcontour"
           }
          ],
          "mesh3d": [
           {
            "colorbar": {
             "outlinewidth": 0,
             "ticks": ""
            },
            "type": "mesh3d"
           }
          ],
          "parcoords": [
           {
            "line": {
             "colorbar": {
              "outlinewidth": 0,
              "ticks": ""
             }
            },
            "type": "parcoords"
           }
          ],
          "pie": [
           {
            "automargin": true,
            "type": "pie"
           }
          ],
          "scatter": [
           {
            "fillpattern": {
             "fillmode": "overlay",
             "size": 10,
             "solidity": 0.2
            },
            "type": "scatter"
           }
          ],
          "scatter3d": [
           {
            "line": {
             "colorbar": {
              "outlinewidth": 0,
              "ticks": ""
             }
            },
            "marker": {
             "colorbar": {
              "outlinewidth": 0,
              "ticks": ""
             }
            },
            "type": "scatter3d"
           }
          ],
          "scattercarpet": [
           {
            "marker": {
             "colorbar": {
              "outlinewidth": 0,
              "ticks": ""
             }
            },
            "type": "scattercarpet"
           }
          ],
          "scattergeo": [
           {
            "marker": {
             "colorbar": {
              "outlinewidth": 0,
              "ticks": ""
             }
            },
            "type": "scattergeo"
           }
          ],
          "scattergl": [
           {
            "marker": {
             "colorbar": {
              "outlinewidth": 0,
              "ticks": ""
             }
            },
            "type": "scattergl"
           }
          ],
          "scattermapbox": [
           {
            "marker": {
             "colorbar": {
              "outlinewidth": 0,
              "ticks": ""
             }
            },
            "type": "scattermapbox"
           }
          ],
          "scatterpolar": [
           {
            "marker": {
             "colorbar": {
              "outlinewidth": 0,
              "ticks": ""
             }
            },
            "type": "scatterpolar"
           }
          ],
          "scatterpolargl": [
           {
            "marker": {
             "colorbar": {
              "outlinewidth": 0,
              "ticks": ""
             }
            },
            "type": "scatterpolargl"
           }
          ],
          "scatterternary": [
           {
            "marker": {
             "colorbar": {
              "outlinewidth": 0,
              "ticks": ""
             }
            },
            "type": "scatterternary"
           }
          ],
          "surface": [
           {
            "colorbar": {
             "outlinewidth": 0,
             "ticks": ""
            },
            "colorscale": [
             [
              0,
              "#0d0887"
             ],
             [
              0.1111111111111111,
              "#46039f"
             ],
             [
              0.2222222222222222,
              "#7201a8"
             ],
             [
              0.3333333333333333,
              "#9c179e"
             ],
             [
              0.4444444444444444,
              "#bd3786"
             ],
             [
              0.5555555555555556,
              "#d8576b"
             ],
             [
              0.6666666666666666,
              "#ed7953"
             ],
             [
              0.7777777777777778,
              "#fb9f3a"
             ],
             [
              0.8888888888888888,
              "#fdca26"
             ],
             [
              1,
              "#f0f921"
             ]
            ],
            "type": "surface"
           }
          ],
          "table": [
           {
            "cells": {
             "fill": {
              "color": "#EBF0F8"
             },
             "line": {
              "color": "white"
             }
            },
            "header": {
             "fill": {
              "color": "#C8D4E3"
             },
             "line": {
              "color": "white"
             }
            },
            "type": "table"
           }
          ]
         },
         "layout": {
          "annotationdefaults": {
           "arrowcolor": "#2a3f5f",
           "arrowhead": 0,
           "arrowwidth": 1
          },
          "autotypenumbers": "strict",
          "coloraxis": {
           "colorbar": {
            "outlinewidth": 0,
            "ticks": ""
           }
          },
          "colorscale": {
           "diverging": [
            [
             0,
             "#8e0152"
            ],
            [
             0.1,
             "#c51b7d"
            ],
            [
             0.2,
             "#de77ae"
            ],
            [
             0.3,
             "#f1b6da"
            ],
            [
             0.4,
             "#fde0ef"
            ],
            [
             0.5,
             "#f7f7f7"
            ],
            [
             0.6,
             "#e6f5d0"
            ],
            [
             0.7,
             "#b8e186"
            ],
            [
             0.8,
             "#7fbc41"
            ],
            [
             0.9,
             "#4d9221"
            ],
            [
             1,
             "#276419"
            ]
           ],
           "sequential": [
            [
             0,
             "#0d0887"
            ],
            [
             0.1111111111111111,
             "#46039f"
            ],
            [
             0.2222222222222222,
             "#7201a8"
            ],
            [
             0.3333333333333333,
             "#9c179e"
            ],
            [
             0.4444444444444444,
             "#bd3786"
            ],
            [
             0.5555555555555556,
             "#d8576b"
            ],
            [
             0.6666666666666666,
             "#ed7953"
            ],
            [
             0.7777777777777778,
             "#fb9f3a"
            ],
            [
             0.8888888888888888,
             "#fdca26"
            ],
            [
             1,
             "#f0f921"
            ]
           ],
           "sequentialminus": [
            [
             0,
             "#0d0887"
            ],
            [
             0.1111111111111111,
             "#46039f"
            ],
            [
             0.2222222222222222,
             "#7201a8"
            ],
            [
             0.3333333333333333,
             "#9c179e"
            ],
            [
             0.4444444444444444,
             "#bd3786"
            ],
            [
             0.5555555555555556,
             "#d8576b"
            ],
            [
             0.6666666666666666,
             "#ed7953"
            ],
            [
             0.7777777777777778,
             "#fb9f3a"
            ],
            [
             0.8888888888888888,
             "#fdca26"
            ],
            [
             1,
             "#f0f921"
            ]
           ]
          },
          "colorway": [
           "#636efa",
           "#EF553B",
           "#00cc96",
           "#ab63fa",
           "#FFA15A",
           "#19d3f3",
           "#FF6692",
           "#B6E880",
           "#FF97FF",
           "#FECB52"
          ],
          "font": {
           "color": "#2a3f5f"
          },
          "geo": {
           "bgcolor": "white",
           "lakecolor": "white",
           "landcolor": "#E5ECF6",
           "showlakes": true,
           "showland": true,
           "subunitcolor": "white"
          },
          "hoverlabel": {
           "align": "left"
          },
          "hovermode": "closest",
          "mapbox": {
           "style": "light"
          },
          "paper_bgcolor": "white",
          "plot_bgcolor": "#E5ECF6",
          "polar": {
           "angularaxis": {
            "gridcolor": "white",
            "linecolor": "white",
            "ticks": ""
           },
           "bgcolor": "#E5ECF6",
           "radialaxis": {
            "gridcolor": "white",
            "linecolor": "white",
            "ticks": ""
           }
          },
          "scene": {
           "xaxis": {
            "backgroundcolor": "#E5ECF6",
            "gridcolor": "white",
            "gridwidth": 2,
            "linecolor": "white",
            "showbackground": true,
            "ticks": "",
            "zerolinecolor": "white"
           },
           "yaxis": {
            "backgroundcolor": "#E5ECF6",
            "gridcolor": "white",
            "gridwidth": 2,
            "linecolor": "white",
            "showbackground": true,
            "ticks": "",
            "zerolinecolor": "white"
           },
           "zaxis": {
            "backgroundcolor": "#E5ECF6",
            "gridcolor": "white",
            "gridwidth": 2,
            "linecolor": "white",
            "showbackground": true,
            "ticks": "",
            "zerolinecolor": "white"
           }
          },
          "shapedefaults": {
           "line": {
            "color": "#2a3f5f"
           }
          },
          "ternary": {
           "aaxis": {
            "gridcolor": "white",
            "linecolor": "white",
            "ticks": ""
           },
           "baxis": {
            "gridcolor": "white",
            "linecolor": "white",
            "ticks": ""
           },
           "bgcolor": "#E5ECF6",
           "caxis": {
            "gridcolor": "white",
            "linecolor": "white",
            "ticks": ""
           }
          },
          "title": {
           "x": 0.05
          },
          "xaxis": {
           "automargin": true,
           "gridcolor": "white",
           "linecolor": "white",
           "ticks": "",
           "title": {
            "standoff": 15
           },
           "zerolinecolor": "white",
           "zerolinewidth": 2
          },
          "yaxis": {
           "automargin": true,
           "gridcolor": "white",
           "linecolor": "white",
           "ticks": "",
           "title": {
            "standoff": 15
           },
           "zerolinecolor": "white",
           "zerolinewidth": 2
          }
         }
        },
        "xaxis": {
         "anchor": "y",
         "autorange": true,
         "domain": [
          0,
          1
         ],
         "range": [
          -0.5,
          1.5
         ],
         "title": {
          "text": "Sexo"
         },
         "type": "category"
        },
        "yaxis": {
         "anchor": "x",
         "autorange": true,
         "domain": [
          0,
          1
         ],
         "range": [
          0,
          226.31578947368422
         ],
         "title": {
          "text": "divida"
         },
         "type": "linear"
        }
       }
      },
      "image/png": "[encoded data removed]",
      "text/html": [
       "<div>                            <div id=\"23dede70-3303-4b37-89eb-4895f42ec683\" class=\"plotly-graph-div\" style=\"height:525px; width:100%;\"></div>            <script type=\"text/javascript\">                require([\"plotly\"], function(Plotly) {                    window.PLOTLYENV=window.PLOTLYENV || {};                                    if (document.getElementById(\"23dede70-3303-4b37-89eb-4895f42ec683\")) {                    Plotly.newPlot(                        \"23dede70-3303-4b37-89eb-4895f42ec683\",                        [{\"alignmentgroup\":\"True\",\"hovertemplate\":\"Sexo=%{x}\\u003cbr\\u003edivida=%{y}\\u003cextra\\u003e\\u003c\\u002fextra\\u003e\",\"legendgroup\":\"\",\"marker\":{\"color\":\"#636efa\",\"pattern\":{\"shape\":\"\"}},\"name\":\"\",\"offsetgroup\":\"\",\"orientation\":\"v\",\"showlegend\":false,\"textposition\":\"auto\",\"x\":[\"F\",\"M\"],\"xaxis\":\"x\",\"y\":[215,167],\"yaxis\":\"y\",\"type\":\"bar\"}],                        {\"template\":{\"data\":{\"histogram2dcontour\":[{\"type\":\"histogram2dcontour\",\"colorbar\":{\"outlinewidth\":0,\"ticks\":\"\"},\"colorscale\":[[0.0,\"#0d0887\"],[0.1111111111111111,\"#46039f\"],[0.2222222222222222,\"#7201a8\"],[0.3333333333333333,\"#9c179e\"],[0.4444444444444444,\"#bd3786\"],[0.5555555555555556,\"#d8576b\"],[0.6666666666666666,\"#ed7953\"],[0.7777777777777778,\"#fb9f3a\"],[0.8888888888888888,\"#fdca26\"],[1.0,\"#f0f921\"]]}],\"choropleth\":[{\"type\":\"choropleth\",\"colorbar\":{\"outlinewidth\":0,\"ticks\":\"\"}}],\"histogram2d\":[{\"type\":\"histogram2d\",\"colorbar\":{\"outlinewidth\":0,\"ticks\":\"\"},\"colorscale\":[[0.0,\"#0d0887\"],[0.1111111111111111,\"#46039f\"],[0.2222222222222222,\"#7201a8\"],[0.3333333333333333,\"#9c179e\"],[0.4444444444444444,\"#bd3786\"],[0.5555555555555556,\"#d8576b\"],[0.6666666666666666,\"#ed7953\"],[0.7777777777777778,\"#fb9f3a\"],[0.8888888888888888,\"#fdca26\"],[1.0,\"#f0f921\"]]}],\"heatmap\":[{\"type\":\"heatmap\",\"colorbar\":{\"outlinewidth\":0,\"ticks\":\"\"},\"colorscale\":[[0.0,\"#0d0887\"],[0.1111111111111111,\"#46039f\"],[0.2222222222222222,\"#7201a8\"],[0.3333333333333333,\"#9c179e\"],[0.4444444444444444,\"#bd3786\"],[0.5555555555555556,\"#d8576b\"],[0.6666666666666666,\"#ed7953\"],[0.7777777777777778,\"#fb9f3a\"],[0.8888888888888888,\"#fdca26\"],[1.0,\"#f0f921\"]]}],\"heatmapgl\":[{\"type\":\"heatmapgl\",\"colorbar\":{\"outlinewidth\":0,\"ticks\":\"\"},\"colorscale\":[[0.0,\"#0d0887\"],[0.1111111111111111,\"#46039f\"],[0.2222222222222222,\"#7201a8\"],[0.3333333333333333,\"#9c179e\"],[0.4444444444444444,\"#bd3786\"],[0.5555555555555556,\"#d8576b\"],[0.6666666666666666,\"#ed7953\"],[0.7777777777777778,\"#fb9f3a\"],[0.8888888888888888,\"#fdca26\"],[1.0,\"#f0f921\"]]}],\"contourcarpet\":[{\"type\":\"contourcarpet\",\"colorbar\":{\"outlinewidth\":0,\"ticks\":\"\"}}],\"contour\":[{\"type\":\"contour\",\"colorbar\":{\"outlinewidth\":0,\"ticks\":\"\"},\"colorscale\":[[0.0,\"#0d0887\"],[0.1111111111111111,\"#46039f\"],[0.2222222222222222,\"#7201a8\"],[0.3333333333333333,\"#9c179e\"],[0.4444444444444444,\"#bd3786\"],[0.5555555555555556,\"#d8576b\"],[0.6666666666666666,\"#ed7953\"],[0.7777777777777778,\"#fb9f3a\"],[0.8888888888888888,\"#fdca26\"],[1.0,\"#f0f921\"]]}],\"surface\":[{\"type\":\"surface\",\"colorbar\":{\"outlinewidth\":0,\"ticks\":\"\"},\"colorscale\":[[0.0,\"#0d0887\"],[0.1111111111111111,\"#46039f\"],[0.2222222222222222,\"#7201a8\"],[0.3333333333333333,\"#9c179e\"],[0.4444444444444444,\"#bd3786\"],[0.5555555555555556,\"#d8576b\"],[0.6666666666666666,\"#ed7953\"],[0.7777777777777778,\"#fb9f3a\"],[0.8888888888888888,\"#fdca26\"],[1.0,\"#f0f921\"]]}],\"mesh3d\":[{\"type\":\"mesh3d\",\"colorbar\":{\"outlinewidth\":0,\"ticks\":\"\"}}],\"scatter\":[{\"fillpattern\":{\"fillmode\":\"overlay\",\"size\":10,\"solidity\":0.2},\"type\":\"scatter\"}],\"parcoords\":[{\"type\":\"parcoords\",\"line\":{\"colorbar\":{\"outlinewidth\":0,\"ticks\":\"\"}}}],\"scatterpolargl\":[{\"type\":\"scatterpolargl\",\"marker\":{\"colorbar\":{\"outlinewidth\":0,\"ticks\":\"\"}}}],\"bar\":[{\"error_x\":{\"color\":\"#2a3f5f\"},\"error_y\":{\"color\":\"#2a3f5f\"},\"marker\":{\"line\":{\"color\":\"#E5ECF6\",\"width\":0.5},\"pattern\":{\"fillmode\":\"overlay\",\"size\":10,\"solidity\":0.2}},\"type\":\"bar\"}],\"scattergeo\":[{\"type\":\"scattergeo\",\"marker\":{\"colorbar\":{\"outlinewidth\":0,\"ticks\":\"\"}}}],\"scatterpolar\":[{\"type\":\"scatterpolar\",\"marker\":{\"colorbar\":{\"outlinewidth\":0,\"ticks\":\"\"}}}],\"histogram\":[{\"marker\":{\"pattern\":{\"fillmode\":\"overlay\",\"size\":10,\"solidity\":0.2}},\"type\":\"histogram\"}],\"scattergl\":[{\"type\":\"scattergl\",\"marker\":{\"colorbar\":{\"outlinewidth\":0,\"ticks\":\"\"}}}],\"scatter3d\":[{\"type\":\"scatter3d\",\"line\":{\"colorbar\":{\"outlinewidth\":0,\"ticks\":\"\"}},\"marker\":{\"colorbar\":{\"outlinewidth\":0,\"ticks\":\"\"}}}],\"scattermapbox\":[{\"type\":\"scattermapbox\",\"marker\":{\"colorbar\":{\"outlinewidth\":0,\"ticks\":\"\"}}}],\"scatterternary\":[{\"type\":\"scatterternary\",\"marker\":{\"colorbar\":{\"outlinewidth\":0,\"ticks\":\"\"}}}],\"scattercarpet\":[{\"type\":\"scattercarpet\",\"marker\":{\"colorbar\":{\"outlinewidth\":0,\"ticks\":\"\"}}}],\"carpet\":[{\"aaxis\":{\"endlinecolor\":\"#2a3f5f\",\"gridcolor\":\"white\",\"linecolor\":\"white\",\"minorgridcolor\":\"white\",\"startlinecolor\":\"#2a3f5f\"},\"baxis\":{\"endlinecolor\":\"#2a3f5f\",\"gridcolor\":\"white\",\"linecolor\":\"white\",\"minorgridcolor\":\"white\",\"startlinecolor\":\"#2a3f5f\"},\"type\":\"carpet\"}],\"table\":[{\"cells\":{\"fill\":{\"color\":\"#EBF0F8\"},\"line\":{\"color\":\"white\"}},\"header\":{\"fill\":{\"color\":\"#C8D4E3\"},\"line\":{\"color\":\"white\"}},\"type\":\"table\"}],\"barpolar\":[{\"marker\":{\"line\":{\"color\":\"#E5ECF6\",\"width\":0.5},\"pattern\":{\"fillmode\":\"overlay\",\"size\":10,\"solidity\":0.2}},\"type\":\"barpolar\"}],\"pie\":[{\"automargin\":true,\"type\":\"pie\"}]},\"layout\":{\"autotypenumbers\":\"strict\",\"colorway\":[\"#636efa\",\"#EF553B\",\"#00cc96\",\"#ab63fa\",\"#FFA15A\",\"#19d3f3\",\"#FF6692\",\"#B6E880\",\"#FF97FF\",\"#FECB52\"],\"font\":{\"color\":\"#2a3f5f\"},\"hovermode\":\"closest\",\"hoverlabel\":{\"align\":\"left\"},\"paper_bgcolor\":\"white\",\"plot_bgcolor\":\"#E5ECF6\",\"polar\":{\"bgcolor\":\"#E5ECF6\",\"angularaxis\":{\"gridcolor\":\"white\",\"linecolor\":\"white\",\"ticks\":\"\"},\"radialaxis\":{\"gridcolor\":\"white\",\"linecolor\":\"white\",\"ticks\":\"\"}},\"ternary\":{\"bgcolor\":\"#E5ECF6\",\"aaxis\":{\"gridcolor\":\"white\",\"linecolor\":\"white\",\"ticks\":\"\"},\"baxis\":{\"gridcolor\":\"white\",\"linecolor\":\"white\",\"ticks\":\"\"},\"caxis\":{\"gridcolor\":\"white\",\"linecolor\":\"white\",\"ticks\":\"\"}},\"coloraxis\":{\"colorbar\":{\"outlinewidth\":0,\"ticks\":\"\"}},\"colorscale\":{\"sequential\":[[0.0,\"#0d0887\"],[0.1111111111111111,\"#46039f\"],[0.2222222222222222,\"#7201a8\"],[0.3333333333333333,\"#9c179e\"],[0.4444444444444444,\"#bd3786\"],[0.5555555555555556,\"#d8576b\"],[0.6666666666666666,\"#ed7953\"],[0.7777777777777778,\"#fb9f3a\"],[0.8888888888888888,\"#fdca26\"],[1.0,\"#f0f921\"]],\"sequentialminus\":[[0.0,\"#0d0887\"],[0.1111111111111111,\"#46039f\"],[0.2222222222222222,\"#7201a8\"],[0.3333333333333333,\"#9c179e\"],[0.4444444444444444,\"#bd3786\"],[0.5555555555555556,\"#d8576b\"],[0.6666666666666666,\"#ed7953\"],[0.7777777777777778,\"#fb9f3a\"],[0.8888888888888888,\"#fdca26\"],[1.0,\"#f0f921\"]],\"diverging\":[[0,\"#8e0152\"],[0.1,\"#c51b7d\"],[0.2,\"#de77ae\"],[0.3,\"#f1b6da\"],[0.4,\"#fde0ef\"],[0.5,\"#f7f7f7\"],[0.6,\"#e6f5d0\"],[0.7,\"#b8e186\"],[0.8,\"#7fbc41\"],[0.9,\"#4d9221\"],[1,\"#276419\"]]},\"xaxis\":{\"gridcolor\":\"white\",\"linecolor\":\"white\",\"ticks\":\"\",\"title\":{\"standoff\":15},\"zerolinecolor\":\"white\",\"automargin\":true,\"zerolinewidth\":2},\"yaxis\":{\"gridcolor\":\"white\",\"linecolor\":\"white\",\"ticks\":\"\",\"title\":{\"standoff\":15},\"zerolinecolor\":\"white\",\"automargin\":true,\"zerolinewidth\":2},\"scene\":{\"xaxis\":{\"backgroundcolor\":\"#E5ECF6\",\"gridcolor\":\"white\",\"linecolor\":\"white\",\"showbackground\":true,\"ticks\":\"\",\"zerolinecolor\":\"white\",\"gridwidth\":2},\"yaxis\":{\"backgroundcolor\":\"#E5ECF6\",\"gridcolor\":\"white\",\"linecolor\":\"white\",\"showbackground\":true,\"ticks\":\"\",\"zerolinecolor\":\"white\",\"gridwidth\":2},\"zaxis\":{\"backgroundcolor\":\"#E5ECF6\",\"gridcolor\":\"white\",\"linecolor\":\"white\",\"showbackground\":true,\"ticks\":\"\",\"zerolinecolor\":\"white\",\"gridwidth\":2}},\"shapedefaults\":{\"line\":{\"color\":\"#2a3f5f\"}},\"annotationdefaults\":{\"arrowcolor\":\"#2a3f5f\",\"arrowhead\":0,\"arrowwidth\":1},\"geo\":{\"bgcolor\":\"white\",\"landcolor\":\"#E5ECF6\",\"subunitcolor\":\"white\",\"showland\":true,\"showlakes\":true,\"lakecolor\":\"white\"},\"title\":{\"x\":0.05},\"mapbox\":{\"style\":\"light\"}}},\"xaxis\":{\"anchor\":\"y\",\"domain\":[0.0,1.0],\"title\":{\"text\":\"Sexo\"}},\"yaxis\":{\"anchor\":\"x\",\"domain\":[0.0,1.0],\"title\":{\"text\":\"divida\"}},\"legend\":{\"tracegroupgap\":0},\"margin\":{\"t\":60},\"barmode\":\"relative\"},                        {\"responsive\": true}                    ).then(function(){\n",
       "                            \n",
       "var gd = document.getElementById('23dede70-3303-4b37-89eb-4895f42ec683');\n",
       "var x = new MutationObserver(function (mutations, observer) {{\n",
       "        var display = window.getComputedStyle(gd).display;\n",
       "        if (!display || display === 'none') {{\n",
       "            console.log([gd, 'removed!']);\n",
       "            Plotly.purge(gd);\n",
       "            observer.disconnect();\n",
       "        }}\n",
       "}});\n",
       "\n",
       "// Listen for the removal of the full notebook cells\n",
       "var notebookContainer = gd.closest('#notebook-container');\n",
       "if (notebookContainer) {{\n",
       "    x.observe(notebookContainer, {childList: true});\n",
       "}}\n",
       "\n",
       "// Listen for the clearing of the current output cell\n",
       "var outputEl = gd.closest('.output');\n",
       "if (outputEl) {{\n",
       "    x.observe(outputEl, {childList: true});\n",
       "}}\n",
       "\n",
       "                        })                };                });            </script>        </div>"
      ]
     },
     "metadata": {},
     "output_type": "display_data"
    }
   ],
   "source": [
    "import plotly.express as px\n",
    "\n",
    "fig = px.bar(dados_por_sexo, x=\"Sexo\", y=\"divida\")\n",
    "fig.show() "
   ]
  },
  {
   "cell_type": "markdown",
   "id": "15a0ad2b-07e6-4094-bfcc-0849b1492784",
   "metadata": {},
   "source": [
    "### Leitura por curso"
   ]
  },
  {
   "cell_type": "code",
   "execution_count": 35,
   "id": "68c3703c-e475-423d-b5fd-56eaf4f18c23",
   "metadata": {},
   "outputs": [
    {
     "data": {
      "text/plain": [
       "array([nan, 'MBA em Gestão Departamento Pessoal e Rotinas Trabalhistas',\n",
       "       'Direito', 'Engenharia Civil', 'Administração',\n",
       "       'Ciências Contábeis', 'Pedagogia', 'Psicologia ',\n",
       "       'MBA em Gestão Empresarial com Ênfase em Marketing e Pessoas',\n",
       "       'Docência no Ensino Superior',\n",
       "       'Direito do Trabalho e Processo do Trabalho',\n",
       "       'Sistemas de Informação', 'Psicopedagogia Institucional e Clínica',\n",
       "       'MBA Contabilidade e Direito Tributário',\n",
       "       'MBA Executivo - Gestão de Negócios em Vendas'], dtype=object)"
      ]
     },
     "execution_count": 35,
     "metadata": {},
     "output_type": "execute_result"
    }
   ],
   "source": [
    "dados_inadimplentes.Curso.unique()"
   ]
  },
  {
   "cell_type": "code",
   "execution_count": 37,
   "id": "c69c0c58-409b-40b2-bc89-4d6b93d895c6",
   "metadata": {},
   "outputs": [],
   "source": [
    "def tabela_frequencia(variavel):\n",
    "  '''\n",
    "  Esta função irá gerar uma tabela de frequência com percentuais de acordo \n",
    "  com a variável passada. \n",
    "\n",
    "  variavel = variável categórica escolhida de dentro do conjunto de dados \n",
    "  emprestimos_completo\n",
    "  '''\n",
    "\n",
    "  dataframe = pd.DataFrame(dados_inadimplentes[variavel].value_counts())                      \n",
    "  dataframe.columns = ['quantidade']\n",
    "  dataframe['percentual'] = round((dataframe.quantidade / dataframe.quantidade.sum())*100,1)\n",
    "\n",
    "  return dataframe"
   ]
  },
  {
   "cell_type": "code",
   "execution_count": 49,
   "id": "f253ecdf-23ce-4419-b282-0c68e0ee7901",
   "metadata": {},
   "outputs": [
    {
     "data": {
      "text/html": [
       "<div>\n",
       "<style scoped>\n",
       "    .dataframe tbody tr th:only-of-type {\n",
       "        vertical-align: middle;\n",
       "    }\n",
       "\n",
       "    .dataframe tbody tr th {\n",
       "        vertical-align: top;\n",
       "    }\n",
       "\n",
       "    .dataframe thead th {\n",
       "        text-align: right;\n",
       "    }\n",
       "</style>\n",
       "<table border=\"1\" class=\"dataframe\">\n",
       "  <thead>\n",
       "    <tr style=\"text-align: right;\">\n",
       "      <th></th>\n",
       "      <th>quantidade</th>\n",
       "      <th>percentual</th>\n",
       "    </tr>\n",
       "    <tr>\n",
       "      <th>Curso</th>\n",
       "      <th></th>\n",
       "      <th></th>\n",
       "    </tr>\n",
       "  </thead>\n",
       "  <tbody>\n",
       "    <tr>\n",
       "      <th>Direito</th>\n",
       "      <td>173</td>\n",
       "      <td>38.1</td>\n",
       "    </tr>\n",
       "    <tr>\n",
       "      <th>Engenharia Civil</th>\n",
       "      <td>136</td>\n",
       "      <td>30.0</td>\n",
       "    </tr>\n",
       "    <tr>\n",
       "      <th>Administração</th>\n",
       "      <td>57</td>\n",
       "      <td>12.6</td>\n",
       "    </tr>\n",
       "    <tr>\n",
       "      <th>Ciências Contábeis</th>\n",
       "      <td>29</td>\n",
       "      <td>6.4</td>\n",
       "    </tr>\n",
       "    <tr>\n",
       "      <th>Psicologia</th>\n",
       "      <td>26</td>\n",
       "      <td>5.7</td>\n",
       "    </tr>\n",
       "    <tr>\n",
       "      <th>Pedagogia</th>\n",
       "      <td>20</td>\n",
       "      <td>4.4</td>\n",
       "    </tr>\n",
       "    <tr>\n",
       "      <th>Sistemas de Informação</th>\n",
       "      <td>4</td>\n",
       "      <td>0.9</td>\n",
       "    </tr>\n",
       "    <tr>\n",
       "      <th>MBA em Gestão Empresarial com Ênfase em Marketing e Pessoas</th>\n",
       "      <td>3</td>\n",
       "      <td>0.7</td>\n",
       "    </tr>\n",
       "    <tr>\n",
       "      <th>MBA em Gestão Departamento Pessoal e Rotinas Trabalhistas</th>\n",
       "      <td>1</td>\n",
       "      <td>0.2</td>\n",
       "    </tr>\n",
       "    <tr>\n",
       "      <th>Docência no Ensino Superior</th>\n",
       "      <td>1</td>\n",
       "      <td>0.2</td>\n",
       "    </tr>\n",
       "    <tr>\n",
       "      <th>Direito do Trabalho e Processo do Trabalho</th>\n",
       "      <td>1</td>\n",
       "      <td>0.2</td>\n",
       "    </tr>\n",
       "    <tr>\n",
       "      <th>Psicopedagogia Institucional e Clínica</th>\n",
       "      <td>1</td>\n",
       "      <td>0.2</td>\n",
       "    </tr>\n",
       "    <tr>\n",
       "      <th>MBA Contabilidade e Direito Tributário</th>\n",
       "      <td>1</td>\n",
       "      <td>0.2</td>\n",
       "    </tr>\n",
       "    <tr>\n",
       "      <th>MBA Executivo - Gestão de Negócios em Vendas</th>\n",
       "      <td>1</td>\n",
       "      <td>0.2</td>\n",
       "    </tr>\n",
       "  </tbody>\n",
       "</table>\n",
       "</div>"
      ],
      "text/plain": [
       "                                                    quantidade  percentual\n",
       "Curso                                                                     \n",
       "Direito                                                    173        38.1\n",
       "Engenharia Civil                                           136        30.0\n",
       "Administração                                               57        12.6\n",
       "Ciências Contábeis                                          29         6.4\n",
       "Psicologia                                                  26         5.7\n",
       "Pedagogia                                                   20         4.4\n",
       "Sistemas de Informação                                       4         0.9\n",
       "MBA em Gestão Empresarial com Ênfase em Marketi...           3         0.7\n",
       "MBA em Gestão Departamento Pessoal e Rotinas Tr...           1         0.2\n",
       "Docência no Ensino Superior                                  1         0.2\n",
       "Direito do Trabalho e Processo do Trabalho                   1         0.2\n",
       "Psicopedagogia Institucional e Clínica                       1         0.2\n",
       "MBA Contabilidade e Direito Tributário                       1         0.2\n",
       "MBA Executivo - Gestão de Negócios em Vendas                 1         0.2"
      ]
     },
     "execution_count": 49,
     "metadata": {},
     "output_type": "execute_result"
    }
   ],
   "source": [
    "inadimplentes_por_curso = tabela_frequencia(\"Curso\")\n",
    "inadimplentes_por_curso"
   ]
  },
  {
   "cell_type": "markdown",
   "id": "45aa66a8-2a47-411e-b0e9-81d28aba885a",
   "metadata": {},
   "source": [
    "### Gráfico para melhor visualização - 6 mais devedores"
   ]
  },
  {
   "cell_type": "code",
   "execution_count": 72,
   "id": "db44fcc2-d7ae-41e4-9233-61d7dfb4cb7c",
   "metadata": {},
   "outputs": [
    {
     "data": {
      "application/vnd.plotly.v1+json": {
       "config": {
        "plotlyServerURL": "https://plot.ly"
       },
       "data": [
        {
         "alignmentgroup": "True",
         "hovertemplate": "x=%{x}<br>quantidade=%{y}<extra></extra>",
         "legendgroup": "",
         "marker": {
          "color": "#636efa",
          "pattern": {
           "shape": ""
          }
         },
         "name": "",
         "offsetgroup": "",
         "orientation": "v",
         "showlegend": false,
         "textposition": "auto",
         "type": "bar",
         "x": [
          "Direito",
          "Engenharia Civil",
          "Administração",
          "Ciências Contábeis",
          "Psicologia ",
          "Pedagogia"
         ],
         "xaxis": "x",
         "y": [
          173,
          136,
          57,
          29,
          26,
          20
         ],
         "yaxis": "y"
        }
       ],
       "layout": {
        "autosize": true,
        "barmode": "relative",
        "legend": {
         "tracegroupgap": 0
        },
        "margin": {
         "t": 60
        },
        "template": {
         "data": {
          "bar": [
           {
            "error_x": {
             "color": "#2a3f5f"
            },
            "error_y": {
             "color": "#2a3f5f"
            },
            "marker": {
             "line": {
              "color": "#E5ECF6",
              "width": 0.5
             },
             "pattern": {
              "fillmode": "overlay",
              "size": 10,
              "solidity": 0.2
             }
            },
            "type": "bar"
           }
          ],
          "barpolar": [
           {
            "marker": {
             "line": {
              "color": "#E5ECF6",
              "width": 0.5
             },
             "pattern": {
              "fillmode": "overlay",
              "size": 10,
              "solidity": 0.2
             }
            },
            "type": "barpolar"
           }
          ],
          "carpet": [
           {
            "aaxis": {
             "endlinecolor": "#2a3f5f",
             "gridcolor": "white",
             "linecolor": "white",
             "minorgridcolor": "white",
             "startlinecolor": "#2a3f5f"
            },
            "baxis": {
             "endlinecolor": "#2a3f5f",
             "gridcolor": "white",
             "linecolor": "white",
             "minorgridcolor": "white",
             "startlinecolor": "#2a3f5f"
            },
            "type": "carpet"
           }
          ],
          "choropleth": [
           {
            "colorbar": {
             "outlinewidth": 0,
             "ticks": ""
            },
            "type": "choropleth"
           }
          ],
          "contour": [
           {
            "colorbar": {
             "outlinewidth": 0,
             "ticks": ""
            },
            "colorscale": [
             [
              0,
              "#0d0887"
             ],
             [
              0.1111111111111111,
              "#46039f"
             ],
             [
              0.2222222222222222,
              "#7201a8"
             ],
             [
              0.3333333333333333,
              "#9c179e"
             ],
             [
              0.4444444444444444,
              "#bd3786"
             ],
             [
              0.5555555555555556,
              "#d8576b"
             ],
             [
              0.6666666666666666,
              "#ed7953"
             ],
             [
              0.7777777777777778,
              "#fb9f3a"
             ],
             [
              0.8888888888888888,
              "#fdca26"
             ],
             [
              1,
              "#f0f921"
             ]
            ],
            "type": "contour"
           }
          ],
          "contourcarpet": [
           {
            "colorbar": {
             "outlinewidth": 0,
             "ticks": ""
            },
            "type": "contourcarpet"
           }
          ],
          "heatmap": [
           {
            "colorbar": {
             "outlinewidth": 0,
             "ticks": ""
            },
            "colorscale": [
             [
              0,
              "#0d0887"
             ],
             [
              0.1111111111111111,
              "#46039f"
             ],
             [
              0.2222222222222222,
              "#7201a8"
             ],
             [
              0.3333333333333333,
              "#9c179e"
             ],
             [
              0.4444444444444444,
              "#bd3786"
             ],
             [
              0.5555555555555556,
              "#d8576b"
             ],
             [
              0.6666666666666666,
              "#ed7953"
             ],
             [
              0.7777777777777778,
              "#fb9f3a"
             ],
             [
              0.8888888888888888,
              "#fdca26"
             ],
             [
              1,
              "#f0f921"
             ]
            ],
            "type": "heatmap"
           }
          ],
          "heatmapgl": [
           {
            "colorbar": {
             "outlinewidth": 0,
             "ticks": ""
            },
            "colorscale": [
             [
              0,
              "#0d0887"
             ],
             [
              0.1111111111111111,
              "#46039f"
             ],
             [
              0.2222222222222222,
              "#7201a8"
             ],
             [
              0.3333333333333333,
              "#9c179e"
             ],
             [
              0.4444444444444444,
              "#bd3786"
             ],
             [
              0.5555555555555556,
              "#d8576b"
             ],
             [
              0.6666666666666666,
              "#ed7953"
             ],
             [
              0.7777777777777778,
              "#fb9f3a"
             ],
             [
              0.8888888888888888,
              "#fdca26"
             ],
             [
              1,
              "#f0f921"
             ]
            ],
            "type": "heatmapgl"
           }
          ],
          "histogram": [
           {
            "marker": {
             "pattern": {
              "fillmode": "overlay",
              "size": 10,
              "solidity": 0.2
             }
            },
            "type": "histogram"
           }
          ],
          "histogram2d": [
           {
            "colorbar": {
             "outlinewidth": 0,
             "ticks": ""
            },
            "colorscale": [
             [
              0,
              "#0d0887"
             ],
             [
              0.1111111111111111,
              "#46039f"
             ],
             [
              0.2222222222222222,
              "#7201a8"
             ],
             [
              0.3333333333333333,
              "#9c179e"
             ],
             [
              0.4444444444444444,
              "#bd3786"
             ],
             [
              0.5555555555555556,
              "#d8576b"
             ],
             [
              0.6666666666666666,
              "#ed7953"
             ],
             [
              0.7777777777777778,
              "#fb9f3a"
             ],
             [
              0.8888888888888888,
              "#fdca26"
             ],
             [
              1,
              "#f0f921"
             ]
            ],
            "type": "histogram2d"
           }
          ],
          "histogram2dcontour": [
           {
            "colorbar": {
             "outlinewidth": 0,
             "ticks": ""
            },
            "colorscale": [
             [
              0,
              "#0d0887"
             ],
             [
              0.1111111111111111,
              "#46039f"
             ],
             [
              0.2222222222222222,
              "#7201a8"
             ],
             [
              0.3333333333333333,
              "#9c179e"
             ],
             [
              0.4444444444444444,
              "#bd3786"
             ],
             [
              0.5555555555555556,
              "#d8576b"
             ],
             [
              0.6666666666666666,
              "#ed7953"
             ],
             [
              0.7777777777777778,
              "#fb9f3a"
             ],
             [
              0.8888888888888888,
              "#fdca26"
             ],
             [
              1,
              "#f0f921"
             ]
            ],
            "type": "histogram2dcontour"
           }
          ],
          "mesh3d": [
           {
            "colorbar": {
             "outlinewidth": 0,
             "ticks": ""
            },
            "type": "mesh3d"
           }
          ],
          "parcoords": [
           {
            "line": {
             "colorbar": {
              "outlinewidth": 0,
              "ticks": ""
             }
            },
            "type": "parcoords"
           }
          ],
          "pie": [
           {
            "automargin": true,
            "type": "pie"
           }
          ],
          "scatter": [
           {
            "fillpattern": {
             "fillmode": "overlay",
             "size": 10,
             "solidity": 0.2
            },
            "type": "scatter"
           }
          ],
          "scatter3d": [
           {
            "line": {
             "colorbar": {
              "outlinewidth": 0,
              "ticks": ""
             }
            },
            "marker": {
             "colorbar": {
              "outlinewidth": 0,
              "ticks": ""
             }
            },
            "type": "scatter3d"
           }
          ],
          "scattercarpet": [
           {
            "marker": {
             "colorbar": {
              "outlinewidth": 0,
              "ticks": ""
             }
            },
            "type": "scattercarpet"
           }
          ],
          "scattergeo": [
           {
            "marker": {
             "colorbar": {
              "outlinewidth": 0,
              "ticks": ""
             }
            },
            "type": "scattergeo"
           }
          ],
          "scattergl": [
           {
            "marker": {
             "colorbar": {
              "outlinewidth": 0,
              "ticks": ""
             }
            },
            "type": "scattergl"
           }
          ],
          "scattermapbox": [
           {
            "marker": {
             "colorbar": {
              "outlinewidth": 0,
              "ticks": ""
             }
            },
            "type": "scattermapbox"
           }
          ],
          "scatterpolar": [
           {
            "marker": {
             "colorbar": {
              "outlinewidth": 0,
              "ticks": ""
             }
            },
            "type": "scatterpolar"
           }
          ],
          "scatterpolargl": [
           {
            "marker": {
             "colorbar": {
              "outlinewidth": 0,
              "ticks": ""
             }
            },
            "type": "scatterpolargl"
           }
          ],
          "scatterternary": [
           {
            "marker": {
             "colorbar": {
              "outlinewidth": 0,
              "ticks": ""
             }
            },
            "type": "scatterternary"
           }
          ],
          "surface": [
           {
            "colorbar": {
             "outlinewidth": 0,
             "ticks": ""
            },
            "colorscale": [
             [
              0,
              "#0d0887"
             ],
             [
              0.1111111111111111,
              "#46039f"
             ],
             [
              0.2222222222222222,
              "#7201a8"
             ],
             [
              0.3333333333333333,
              "#9c179e"
             ],
             [
              0.4444444444444444,
              "#bd3786"
             ],
             [
              0.5555555555555556,
              "#d8576b"
             ],
             [
              0.6666666666666666,
              "#ed7953"
             ],
             [
              0.7777777777777778,
              "#fb9f3a"
             ],
             [
              0.8888888888888888,
              "#fdca26"
             ],
             [
              1,
              "#f0f921"
             ]
            ],
            "type": "surface"
           }
          ],
          "table": [
           {
            "cells": {
             "fill": {
              "color": "#EBF0F8"
             },
             "line": {
              "color": "white"
             }
            },
            "header": {
             "fill": {
              "color": "#C8D4E3"
             },
             "line": {
              "color": "white"
             }
            },
            "type": "table"
           }
          ]
         },
         "layout": {
          "annotationdefaults": {
           "arrowcolor": "#2a3f5f",
           "arrowhead": 0,
           "arrowwidth": 1
          },
          "autotypenumbers": "strict",
          "coloraxis": {
           "colorbar": {
            "outlinewidth": 0,
            "ticks": ""
           }
          },
          "colorscale": {
           "diverging": [
            [
             0,
             "#8e0152"
            ],
            [
             0.1,
             "#c51b7d"
            ],
            [
             0.2,
             "#de77ae"
            ],
            [
             0.3,
             "#f1b6da"
            ],
            [
             0.4,
             "#fde0ef"
            ],
            [
             0.5,
             "#f7f7f7"
            ],
            [
             0.6,
             "#e6f5d0"
            ],
            [
             0.7,
             "#b8e186"
            ],
            [
             0.8,
             "#7fbc41"
            ],
            [
             0.9,
             "#4d9221"
            ],
            [
             1,
             "#276419"
            ]
           ],
           "sequential": [
            [
             0,
             "#0d0887"
            ],
            [
             0.1111111111111111,
             "#46039f"
            ],
            [
             0.2222222222222222,
             "#7201a8"
            ],
            [
             0.3333333333333333,
             "#9c179e"
            ],
            [
             0.4444444444444444,
             "#bd3786"
            ],
            [
             0.5555555555555556,
             "#d8576b"
            ],
            [
             0.6666666666666666,
             "#ed7953"
            ],
            [
             0.7777777777777778,
             "#fb9f3a"
            ],
            [
             0.8888888888888888,
             "#fdca26"
            ],
            [
             1,
             "#f0f921"
            ]
           ],
           "sequentialminus": [
            [
             0,
             "#0d0887"
            ],
            [
             0.1111111111111111,
             "#46039f"
            ],
            [
             0.2222222222222222,
             "#7201a8"
            ],
            [
             0.3333333333333333,
             "#9c179e"
            ],
            [
             0.4444444444444444,
             "#bd3786"
            ],
            [
             0.5555555555555556,
             "#d8576b"
            ],
            [
             0.6666666666666666,
             "#ed7953"
            ],
            [
             0.7777777777777778,
             "#fb9f3a"
            ],
            [
             0.8888888888888888,
             "#fdca26"
            ],
            [
             1,
             "#f0f921"
            ]
           ]
          },
          "colorway": [
           "#636efa",
           "#EF553B",
           "#00cc96",
           "#ab63fa",
           "#FFA15A",
           "#19d3f3",
           "#FF6692",
           "#B6E880",
           "#FF97FF",
           "#FECB52"
          ],
          "font": {
           "color": "#2a3f5f"
          },
          "geo": {
           "bgcolor": "white",
           "lakecolor": "white",
           "landcolor": "#E5ECF6",
           "showlakes": true,
           "showland": true,
           "subunitcolor": "white"
          },
          "hoverlabel": {
           "align": "left"
          },
          "hovermode": "closest",
          "mapbox": {
           "style": "light"
          },
          "paper_bgcolor": "white",
          "plot_bgcolor": "#E5ECF6",
          "polar": {
           "angularaxis": {
            "gridcolor": "white",
            "linecolor": "white",
            "ticks": ""
           },
           "bgcolor": "#E5ECF6",
           "radialaxis": {
            "gridcolor": "white",
            "linecolor": "white",
            "ticks": ""
           }
          },
          "scene": {
           "xaxis": {
            "backgroundcolor": "#E5ECF6",
            "gridcolor": "white",
            "gridwidth": 2,
            "linecolor": "white",
            "showbackground": true,
            "ticks": "",
            "zerolinecolor": "white"
           },
           "yaxis": {
            "backgroundcolor": "#E5ECF6",
            "gridcolor": "white",
            "gridwidth": 2,
            "linecolor": "white",
            "showbackground": true,
            "ticks": "",
            "zerolinecolor": "white"
           },
           "zaxis": {
            "backgroundcolor": "#E5ECF6",
            "gridcolor": "white",
            "gridwidth": 2,
            "linecolor": "white",
            "showbackground": true,
            "ticks": "",
            "zerolinecolor": "white"
           }
          },
          "shapedefaults": {
           "line": {
            "color": "#2a3f5f"
           }
          },
          "ternary": {
           "aaxis": {
            "gridcolor": "white",
            "linecolor": "white",
            "ticks": ""
           },
           "baxis": {
            "gridcolor": "white",
            "linecolor": "white",
            "ticks": ""
           },
           "bgcolor": "#E5ECF6",
           "caxis": {
            "gridcolor": "white",
            "linecolor": "white",
            "ticks": ""
           }
          },
          "title": {
           "x": 0.05
          },
          "xaxis": {
           "automargin": true,
           "gridcolor": "white",
           "linecolor": "white",
           "ticks": "",
           "title": {
            "standoff": 15
           },
           "zerolinecolor": "white",
           "zerolinewidth": 2
          },
          "yaxis": {
           "automargin": true,
           "gridcolor": "white",
           "linecolor": "white",
           "ticks": "",
           "title": {
            "standoff": 15
           },
           "zerolinecolor": "white",
           "zerolinewidth": 2
          }
         }
        },
        "xaxis": {
         "anchor": "y",
         "autorange": true,
         "domain": [
          0,
          1
         ],
         "range": [
          -0.5,
          5.5
         ],
         "title": {
          "text": "x"
         },
         "type": "category"
        },
        "yaxis": {
         "anchor": "x",
         "autorange": true,
         "domain": [
          0,
          1
         ],
         "range": [
          0,
          182.10526315789474
         ],
         "title": {
          "text": "quantidade"
         },
         "type": "linear"
        }
       }
      },
      "image/png": "[encoded data removed]",
      "text/html": [
       "<div>                            <div id=\"4ac124f4-4dc9-4d4e-b6ca-58df449c79a9\" class=\"plotly-graph-div\" style=\"height:525px; width:100%;\"></div>            <script type=\"text/javascript\">                require([\"plotly\"], function(Plotly) {                    window.PLOTLYENV=window.PLOTLYENV || {};                                    if (document.getElementById(\"4ac124f4-4dc9-4d4e-b6ca-58df449c79a9\")) {                    Plotly.newPlot(                        \"4ac124f4-4dc9-4d4e-b6ca-58df449c79a9\",                        [{\"alignmentgroup\":\"True\",\"hovertemplate\":\"x=%{x}\\u003cbr\\u003equantidade=%{y}\\u003cextra\\u003e\\u003c\\u002fextra\\u003e\",\"legendgroup\":\"\",\"marker\":{\"color\":\"#636efa\",\"pattern\":{\"shape\":\"\"}},\"name\":\"\",\"offsetgroup\":\"\",\"orientation\":\"v\",\"showlegend\":false,\"textposition\":\"auto\",\"x\":[\"Direito\",\"Engenharia Civil\",\"Administra\\u00e7\\u00e3o\",\"Ci\\u00eancias Cont\\u00e1beis\",\"Psicologia \",\"Pedagogia\"],\"xaxis\":\"x\",\"y\":[173,136,57,29,26,20],\"yaxis\":\"y\",\"type\":\"bar\"}],                        {\"template\":{\"data\":{\"histogram2dcontour\":[{\"type\":\"histogram2dcontour\",\"colorbar\":{\"outlinewidth\":0,\"ticks\":\"\"},\"colorscale\":[[0.0,\"#0d0887\"],[0.1111111111111111,\"#46039f\"],[0.2222222222222222,\"#7201a8\"],[0.3333333333333333,\"#9c179e\"],[0.4444444444444444,\"#bd3786\"],[0.5555555555555556,\"#d8576b\"],[0.6666666666666666,\"#ed7953\"],[0.7777777777777778,\"#fb9f3a\"],[0.8888888888888888,\"#fdca26\"],[1.0,\"#f0f921\"]]}],\"choropleth\":[{\"type\":\"choropleth\",\"colorbar\":{\"outlinewidth\":0,\"ticks\":\"\"}}],\"histogram2d\":[{\"type\":\"histogram2d\",\"colorbar\":{\"outlinewidth\":0,\"ticks\":\"\"},\"colorscale\":[[0.0,\"#0d0887\"],[0.1111111111111111,\"#46039f\"],[0.2222222222222222,\"#7201a8\"],[0.3333333333333333,\"#9c179e\"],[0.4444444444444444,\"#bd3786\"],[0.5555555555555556,\"#d8576b\"],[0.6666666666666666,\"#ed7953\"],[0.7777777777777778,\"#fb9f3a\"],[0.8888888888888888,\"#fdca26\"],[1.0,\"#f0f921\"]]}],\"heatmap\":[{\"type\":\"heatmap\",\"colorbar\":{\"outlinewidth\":0,\"ticks\":\"\"},\"colorscale\":[[0.0,\"#0d0887\"],[0.1111111111111111,\"#46039f\"],[0.2222222222222222,\"#7201a8\"],[0.3333333333333333,\"#9c179e\"],[0.4444444444444444,\"#bd3786\"],[0.5555555555555556,\"#d8576b\"],[0.6666666666666666,\"#ed7953\"],[0.7777777777777778,\"#fb9f3a\"],[0.8888888888888888,\"#fdca26\"],[1.0,\"#f0f921\"]]}],\"heatmapgl\":[{\"type\":\"heatmapgl\",\"colorbar\":{\"outlinewidth\":0,\"ticks\":\"\"},\"colorscale\":[[0.0,\"#0d0887\"],[0.1111111111111111,\"#46039f\"],[0.2222222222222222,\"#7201a8\"],[0.3333333333333333,\"#9c179e\"],[0.4444444444444444,\"#bd3786\"],[0.5555555555555556,\"#d8576b\"],[0.6666666666666666,\"#ed7953\"],[0.7777777777777778,\"#fb9f3a\"],[0.8888888888888888,\"#fdca26\"],[1.0,\"#f0f921\"]]}],\"contourcarpet\":[{\"type\":\"contourcarpet\",\"colorbar\":{\"outlinewidth\":0,\"ticks\":\"\"}}],\"contour\":[{\"type\":\"contour\",\"colorbar\":{\"outlinewidth\":0,\"ticks\":\"\"},\"colorscale\":[[0.0,\"#0d0887\"],[0.1111111111111111,\"#46039f\"],[0.2222222222222222,\"#7201a8\"],[0.3333333333333333,\"#9c179e\"],[0.4444444444444444,\"#bd3786\"],[0.5555555555555556,\"#d8576b\"],[0.6666666666666666,\"#ed7953\"],[0.7777777777777778,\"#fb9f3a\"],[0.8888888888888888,\"#fdca26\"],[1.0,\"#f0f921\"]]}],\"surface\":[{\"type\":\"surface\",\"colorbar\":{\"outlinewidth\":0,\"ticks\":\"\"},\"colorscale\":[[0.0,\"#0d0887\"],[0.1111111111111111,\"#46039f\"],[0.2222222222222222,\"#7201a8\"],[0.3333333333333333,\"#9c179e\"],[0.4444444444444444,\"#bd3786\"],[0.5555555555555556,\"#d8576b\"],[0.6666666666666666,\"#ed7953\"],[0.7777777777777778,\"#fb9f3a\"],[0.8888888888888888,\"#fdca26\"],[1.0,\"#f0f921\"]]}],\"mesh3d\":[{\"type\":\"mesh3d\",\"colorbar\":{\"outlinewidth\":0,\"ticks\":\"\"}}],\"scatter\":[{\"fillpattern\":{\"fillmode\":\"overlay\",\"size\":10,\"solidity\":0.2},\"type\":\"scatter\"}],\"parcoords\":[{\"type\":\"parcoords\",\"line\":{\"colorbar\":{\"outlinewidth\":0,\"ticks\":\"\"}}}],\"scatterpolargl\":[{\"type\":\"scatterpolargl\",\"marker\":{\"colorbar\":{\"outlinewidth\":0,\"ticks\":\"\"}}}],\"bar\":[{\"error_x\":{\"color\":\"#2a3f5f\"},\"error_y\":{\"color\":\"#2a3f5f\"},\"marker\":{\"line\":{\"color\":\"#E5ECF6\",\"width\":0.5},\"pattern\":{\"fillmode\":\"overlay\",\"size\":10,\"solidity\":0.2}},\"type\":\"bar\"}],\"scattergeo\":[{\"type\":\"scattergeo\",\"marker\":{\"colorbar\":{\"outlinewidth\":0,\"ticks\":\"\"}}}],\"scatterpolar\":[{\"type\":\"scatterpolar\",\"marker\":{\"colorbar\":{\"outlinewidth\":0,\"ticks\":\"\"}}}],\"histogram\":[{\"marker\":{\"pattern\":{\"fillmode\":\"overlay\",\"size\":10,\"solidity\":0.2}},\"type\":\"histogram\"}],\"scattergl\":[{\"type\":\"scattergl\",\"marker\":{\"colorbar\":{\"outlinewidth\":0,\"ticks\":\"\"}}}],\"scatter3d\":[{\"type\":\"scatter3d\",\"line\":{\"colorbar\":{\"outlinewidth\":0,\"ticks\":\"\"}},\"marker\":{\"colorbar\":{\"outlinewidth\":0,\"ticks\":\"\"}}}],\"scattermapbox\":[{\"type\":\"scattermapbox\",\"marker\":{\"colorbar\":{\"outlinewidth\":0,\"ticks\":\"\"}}}],\"scatterternary\":[{\"type\":\"scatterternary\",\"marker\":{\"colorbar\":{\"outlinewidth\":0,\"ticks\":\"\"}}}],\"scattercarpet\":[{\"type\":\"scattercarpet\",\"marker\":{\"colorbar\":{\"outlinewidth\":0,\"ticks\":\"\"}}}],\"carpet\":[{\"aaxis\":{\"endlinecolor\":\"#2a3f5f\",\"gridcolor\":\"white\",\"linecolor\":\"white\",\"minorgridcolor\":\"white\",\"startlinecolor\":\"#2a3f5f\"},\"baxis\":{\"endlinecolor\":\"#2a3f5f\",\"gridcolor\":\"white\",\"linecolor\":\"white\",\"minorgridcolor\":\"white\",\"startlinecolor\":\"#2a3f5f\"},\"type\":\"carpet\"}],\"table\":[{\"cells\":{\"fill\":{\"color\":\"#EBF0F8\"},\"line\":{\"color\":\"white\"}},\"header\":{\"fill\":{\"color\":\"#C8D4E3\"},\"line\":{\"color\":\"white\"}},\"type\":\"table\"}],\"barpolar\":[{\"marker\":{\"line\":{\"color\":\"#E5ECF6\",\"width\":0.5},\"pattern\":{\"fillmode\":\"overlay\",\"size\":10,\"solidity\":0.2}},\"type\":\"barpolar\"}],\"pie\":[{\"automargin\":true,\"type\":\"pie\"}]},\"layout\":{\"autotypenumbers\":\"strict\",\"colorway\":[\"#636efa\",\"#EF553B\",\"#00cc96\",\"#ab63fa\",\"#FFA15A\",\"#19d3f3\",\"#FF6692\",\"#B6E880\",\"#FF97FF\",\"#FECB52\"],\"font\":{\"color\":\"#2a3f5f\"},\"hovermode\":\"closest\",\"hoverlabel\":{\"align\":\"left\"},\"paper_bgcolor\":\"white\",\"plot_bgcolor\":\"#E5ECF6\",\"polar\":{\"bgcolor\":\"#E5ECF6\",\"angularaxis\":{\"gridcolor\":\"white\",\"linecolor\":\"white\",\"ticks\":\"\"},\"radialaxis\":{\"gridcolor\":\"white\",\"linecolor\":\"white\",\"ticks\":\"\"}},\"ternary\":{\"bgcolor\":\"#E5ECF6\",\"aaxis\":{\"gridcolor\":\"white\",\"linecolor\":\"white\",\"ticks\":\"\"},\"baxis\":{\"gridcolor\":\"white\",\"linecolor\":\"white\",\"ticks\":\"\"},\"caxis\":{\"gridcolor\":\"white\",\"linecolor\":\"white\",\"ticks\":\"\"}},\"coloraxis\":{\"colorbar\":{\"outlinewidth\":0,\"ticks\":\"\"}},\"colorscale\":{\"sequential\":[[0.0,\"#0d0887\"],[0.1111111111111111,\"#46039f\"],[0.2222222222222222,\"#7201a8\"],[0.3333333333333333,\"#9c179e\"],[0.4444444444444444,\"#bd3786\"],[0.5555555555555556,\"#d8576b\"],[0.6666666666666666,\"#ed7953\"],[0.7777777777777778,\"#fb9f3a\"],[0.8888888888888888,\"#fdca26\"],[1.0,\"#f0f921\"]],\"sequentialminus\":[[0.0,\"#0d0887\"],[0.1111111111111111,\"#46039f\"],[0.2222222222222222,\"#7201a8\"],[0.3333333333333333,\"#9c179e\"],[0.4444444444444444,\"#bd3786\"],[0.5555555555555556,\"#d8576b\"],[0.6666666666666666,\"#ed7953\"],[0.7777777777777778,\"#fb9f3a\"],[0.8888888888888888,\"#fdca26\"],[1.0,\"#f0f921\"]],\"diverging\":[[0,\"#8e0152\"],[0.1,\"#c51b7d\"],[0.2,\"#de77ae\"],[0.3,\"#f1b6da\"],[0.4,\"#fde0ef\"],[0.5,\"#f7f7f7\"],[0.6,\"#e6f5d0\"],[0.7,\"#b8e186\"],[0.8,\"#7fbc41\"],[0.9,\"#4d9221\"],[1,\"#276419\"]]},\"xaxis\":{\"gridcolor\":\"white\",\"linecolor\":\"white\",\"ticks\":\"\",\"title\":{\"standoff\":15},\"zerolinecolor\":\"white\",\"automargin\":true,\"zerolinewidth\":2},\"yaxis\":{\"gridcolor\":\"white\",\"linecolor\":\"white\",\"ticks\":\"\",\"title\":{\"standoff\":15},\"zerolinecolor\":\"white\",\"automargin\":true,\"zerolinewidth\":2},\"scene\":{\"xaxis\":{\"backgroundcolor\":\"#E5ECF6\",\"gridcolor\":\"white\",\"linecolor\":\"white\",\"showbackground\":true,\"ticks\":\"\",\"zerolinecolor\":\"white\",\"gridwidth\":2},\"yaxis\":{\"backgroundcolor\":\"#E5ECF6\",\"gridcolor\":\"white\",\"linecolor\":\"white\",\"showbackground\":true,\"ticks\":\"\",\"zerolinecolor\":\"white\",\"gridwidth\":2},\"zaxis\":{\"backgroundcolor\":\"#E5ECF6\",\"gridcolor\":\"white\",\"linecolor\":\"white\",\"showbackground\":true,\"ticks\":\"\",\"zerolinecolor\":\"white\",\"gridwidth\":2}},\"shapedefaults\":{\"line\":{\"color\":\"#2a3f5f\"}},\"annotationdefaults\":{\"arrowcolor\":\"#2a3f5f\",\"arrowhead\":0,\"arrowwidth\":1},\"geo\":{\"bgcolor\":\"white\",\"landcolor\":\"#E5ECF6\",\"subunitcolor\":\"white\",\"showland\":true,\"showlakes\":true,\"lakecolor\":\"white\"},\"title\":{\"x\":0.05},\"mapbox\":{\"style\":\"light\"}}},\"xaxis\":{\"anchor\":\"y\",\"domain\":[0.0,1.0],\"title\":{\"text\":\"x\"}},\"yaxis\":{\"anchor\":\"x\",\"domain\":[0.0,1.0],\"title\":{\"text\":\"quantidade\"}},\"legend\":{\"tracegroupgap\":0},\"margin\":{\"t\":60},\"barmode\":\"relative\"},                        {\"responsive\": true}                    ).then(function(){\n",
       "                            \n",
       "var gd = document.getElementById('4ac124f4-4dc9-4d4e-b6ca-58df449c79a9');\n",
       "var x = new MutationObserver(function (mutations, observer) {{\n",
       "        var display = window.getComputedStyle(gd).display;\n",
       "        if (!display || display === 'none') {{\n",
       "            console.log([gd, 'removed!']);\n",
       "            Plotly.purge(gd);\n",
       "            observer.disconnect();\n",
       "        }}\n",
       "}});\n",
       "\n",
       "// Listen for the removal of the full notebook cells\n",
       "var notebookContainer = gd.closest('#notebook-container');\n",
       "if (notebookContainer) {{\n",
       "    x.observe(notebookContainer, {childList: true});\n",
       "}}\n",
       "\n",
       "// Listen for the clearing of the current output cell\n",
       "var outputEl = gd.closest('.output');\n",
       "if (outputEl) {{\n",
       "    x.observe(outputEl, {childList: true});\n",
       "}}\n",
       "\n",
       "                        })                };                });            </script>        </div>"
      ]
     },
     "metadata": {},
     "output_type": "display_data"
    }
   ],
   "source": [
    "fig = px.bar(inadimplentes_por_curso.loc[\"Direito\":\"Pedagogia\"], x=inadimplentes_por_curso.loc[\"Direito\":\"Pedagogia\"].index, y=\"quantidade\")\n",
    "fig.show()"
   ]
  },
  {
   "cell_type": "markdown",
   "id": "b63163f8-1410-48e2-b366-3f1ef750155f",
   "metadata": {},
   "source": [
    "### Convertendo colunas de valores "
   ]
  },
  {
   "cell_type": "code",
   "execution_count": 119,
   "id": "675935bf-0d9f-477a-acb5-212aa3730b6c",
   "metadata": {},
   "outputs": [
    {
     "data": {
      "text/html": [
       "<div>\n",
       "<style scoped>\n",
       "    .dataframe tbody tr th:only-of-type {\n",
       "        vertical-align: middle;\n",
       "    }\n",
       "\n",
       "    .dataframe tbody tr th {\n",
       "        vertical-align: top;\n",
       "    }\n",
       "\n",
       "    .dataframe thead th {\n",
       "        text-align: right;\n",
       "    }\n",
       "</style>\n",
       "<table border=\"1\" class=\"dataframe\">\n",
       "  <thead>\n",
       "    <tr style=\"text-align: right;\">\n",
       "      <th></th>\n",
       "      <th>level_0</th>\n",
       "      <th>index</th>\n",
       "      <th>Nome</th>\n",
       "      <th>Telefone</th>\n",
       "      <th>CPF</th>\n",
       "      <th>Curso</th>\n",
       "      <th>Estado_civil</th>\n",
       "      <th>Sexo</th>\n",
       "      <th>DividaOriginal</th>\n",
       "      <th>DividaAtual</th>\n",
       "      <th>MenorDivida</th>\n",
       "      <th>MaiorDivida</th>\n",
       "      <th>VlrJuros</th>\n",
       "      <th>VlrMulta</th>\n",
       "      <th>VlrCorrecaoMonetaria</th>\n",
       "    </tr>\n",
       "  </thead>\n",
       "  <tbody>\n",
       "    <tr>\n",
       "      <th>0</th>\n",
       "      <td>0</td>\n",
       "      <td>2</td>\n",
       "      <td>Adriana Ribeiro de Figueiredo</td>\n",
       "      <td>34991947576</td>\n",
       "      <td>039.571.226-27</td>\n",
       "      <td>MBA em Gestão Departamento Pessoal e Rotinas T...</td>\n",
       "      <td>C</td>\n",
       "      <td>F</td>\n",
       "      <td>298,00</td>\n",
       "      <td>703.092</td>\n",
       "      <td>703,092</td>\n",
       "      <td>703,092</td>\n",
       "      <td>345,392</td>\n",
       "      <td>7,014</td>\n",
       "      <td>112,286</td>\n",
       "    </tr>\n",
       "    <tr>\n",
       "      <th>1</th>\n",
       "      <td>1</td>\n",
       "      <td>4</td>\n",
       "      <td>Aida Maria de Faria Sobrinho</td>\n",
       "      <td>3499978466</td>\n",
       "      <td>806.406.216-00</td>\n",
       "      <td>Direito</td>\n",
       "      <td>I</td>\n",
       "      <td>F</td>\n",
       "      <td>226,50</td>\n",
       "      <td>226.5</td>\n",
       "      <td>75,50</td>\n",
       "      <td>75,50</td>\n",
       "      <td>0,00</td>\n",
       "      <td>0,00</td>\n",
       "      <td>0,00</td>\n",
       "    </tr>\n",
       "    <tr>\n",
       "      <th>2</th>\n",
       "      <td>2</td>\n",
       "      <td>5</td>\n",
       "      <td>Airton Augusto</td>\n",
       "      <td>3434115260</td>\n",
       "      <td>035.188.378-93</td>\n",
       "      <td>Engenharia Civil</td>\n",
       "      <td>C</td>\n",
       "      <td>M</td>\n",
       "      <td>829,26</td>\n",
       "      <td>829.26</td>\n",
       "      <td>86,11</td>\n",
       "      <td>104,20</td>\n",
       "      <td>0,00</td>\n",
       "      <td>0,00</td>\n",
       "      <td>0,00</td>\n",
       "    </tr>\n",
       "    <tr>\n",
       "      <th>3</th>\n",
       "      <td>3</td>\n",
       "      <td>8</td>\n",
       "      <td>Alessandra Aparecida de Oliveira</td>\n",
       "      <td>34999740386</td>\n",
       "      <td>320.771.428-55</td>\n",
       "      <td>Direito</td>\n",
       "      <td>S</td>\n",
       "      <td>F</td>\n",
       "      <td>3869,64</td>\n",
       "      <td>13142.878</td>\n",
       "      <td>74,964</td>\n",
       "      <td>2634,149</td>\n",
       "      <td>6945,38</td>\n",
       "      <td>120,05</td>\n",
       "      <td>2207,808</td>\n",
       "    </tr>\n",
       "    <tr>\n",
       "      <th>4</th>\n",
       "      <td>4</td>\n",
       "      <td>9</td>\n",
       "      <td>Alessandra Divino Almeida</td>\n",
       "      <td>3499682176</td>\n",
       "      <td>039.315.766-04</td>\n",
       "      <td>Administração</td>\n",
       "      <td>C</td>\n",
       "      <td>F</td>\n",
       "      <td>503,76</td>\n",
       "      <td>503.76</td>\n",
       "      <td>83,96</td>\n",
       "      <td>83,96</td>\n",
       "      <td>0,00</td>\n",
       "      <td>0,00</td>\n",
       "      <td>0,00</td>\n",
       "    </tr>\n",
       "    <tr>\n",
       "      <th>...</th>\n",
       "      <td>...</td>\n",
       "      <td>...</td>\n",
       "      <td>...</td>\n",
       "      <td>...</td>\n",
       "      <td>...</td>\n",
       "      <td>...</td>\n",
       "      <td>...</td>\n",
       "      <td>...</td>\n",
       "      <td>...</td>\n",
       "      <td>...</td>\n",
       "      <td>...</td>\n",
       "      <td>...</td>\n",
       "      <td>...</td>\n",
       "      <td>...</td>\n",
       "      <td>...</td>\n",
       "    </tr>\n",
       "    <tr>\n",
       "      <th>377</th>\n",
       "      <td>377</td>\n",
       "      <td>710</td>\n",
       "      <td>Weder Jose Nunes Leal</td>\n",
       "      <td>34997691737</td>\n",
       "      <td>067.418.826-85</td>\n",
       "      <td>Ciências Contábeis</td>\n",
       "      <td>S</td>\n",
       "      <td>M</td>\n",
       "      <td>2357,77</td>\n",
       "      <td>3009.043</td>\n",
       "      <td>418,911</td>\n",
       "      <td>440,654</td>\n",
       "      <td>429,271</td>\n",
       "      <td>50,664</td>\n",
       "      <td>175,418</td>\n",
       "    </tr>\n",
       "    <tr>\n",
       "      <th>378</th>\n",
       "      <td>378</td>\n",
       "      <td>711</td>\n",
       "      <td>Wellington Lourenço da Silva</td>\n",
       "      <td>3434113641</td>\n",
       "      <td>041.396.646-14</td>\n",
       "      <td>Engenharia Civil</td>\n",
       "      <td>S</td>\n",
       "      <td>M</td>\n",
       "      <td>86,11</td>\n",
       "      <td>86.11</td>\n",
       "      <td>86,11</td>\n",
       "      <td>86,11</td>\n",
       "      <td>0,00</td>\n",
       "      <td>0,00</td>\n",
       "      <td>0,00</td>\n",
       "    </tr>\n",
       "    <tr>\n",
       "      <th>379</th>\n",
       "      <td>379</td>\n",
       "      <td>712</td>\n",
       "      <td>Wellington Silva Macedo</td>\n",
       "      <td>3434124445</td>\n",
       "      <td>051.435.626-00</td>\n",
       "      <td>Direito</td>\n",
       "      <td>S</td>\n",
       "      <td>M</td>\n",
       "      <td>274,08</td>\n",
       "      <td>274.08</td>\n",
       "      <td>91,36</td>\n",
       "      <td>91,36</td>\n",
       "      <td>0,00</td>\n",
       "      <td>0,00</td>\n",
       "      <td>0,00</td>\n",
       "    </tr>\n",
       "    <tr>\n",
       "      <th>380</th>\n",
       "      <td>380</td>\n",
       "      <td>716</td>\n",
       "      <td>Wilker Silva Mendes</td>\n",
       "      <td>03498022508</td>\n",
       "      <td>067.914.806-02</td>\n",
       "      <td>Engenharia Civil</td>\n",
       "      <td>S</td>\n",
       "      <td>M</td>\n",
       "      <td>4344,75</td>\n",
       "      <td>14903.422</td>\n",
       "      <td>2953,944</td>\n",
       "      <td>3004,14</td>\n",
       "      <td>7920,922</td>\n",
       "      <td>136,912</td>\n",
       "      <td>2500,838</td>\n",
       "    </tr>\n",
       "    <tr>\n",
       "      <th>381</th>\n",
       "      <td>381</td>\n",
       "      <td>720</td>\n",
       "      <td>Wyk Érisson Macedo Oliveira</td>\n",
       "      <td>3434150424</td>\n",
       "      <td>137.908.486-54</td>\n",
       "      <td>Ciências Contábeis</td>\n",
       "      <td>C</td>\n",
       "      <td>M</td>\n",
       "      <td>3083,93</td>\n",
       "      <td>3738.249</td>\n",
       "      <td>595,274</td>\n",
       "      <td>969,837</td>\n",
       "      <td>361,727</td>\n",
       "      <td>66,268</td>\n",
       "      <td>229,444</td>\n",
       "    </tr>\n",
       "  </tbody>\n",
       "</table>\n",
       "<p>382 rows × 15 columns</p>\n",
       "</div>"
      ],
      "text/plain": [
       "     level_0  index                              Nome     Telefone  \\\n",
       "0          0      2     Adriana Ribeiro de Figueiredo  34991947576   \n",
       "1          1      4      Aida Maria de Faria Sobrinho   3499978466   \n",
       "2          2      5                    Airton Augusto   3434115260   \n",
       "3          3      8  Alessandra Aparecida de Oliveira  34999740386   \n",
       "4          4      9         Alessandra Divino Almeida   3499682176   \n",
       "..       ...    ...                               ...          ...   \n",
       "377      377    710             Weder Jose Nunes Leal  34997691737   \n",
       "378      378    711      Wellington Lourenço da Silva   3434113641   \n",
       "379      379    712           Wellington Silva Macedo   3434124445   \n",
       "380      380    716               Wilker Silva Mendes  03498022508   \n",
       "381      381    720       Wyk Érisson Macedo Oliveira   3434150424   \n",
       "\n",
       "                CPF                                              Curso  \\\n",
       "0    039.571.226-27  MBA em Gestão Departamento Pessoal e Rotinas T...   \n",
       "1    806.406.216-00                                            Direito   \n",
       "2    035.188.378-93                                   Engenharia Civil   \n",
       "3    320.771.428-55                                            Direito   \n",
       "4    039.315.766-04                                      Administração   \n",
       "..              ...                                                ...   \n",
       "377  067.418.826-85                                 Ciências Contábeis   \n",
       "378  041.396.646-14                                   Engenharia Civil   \n",
       "379  051.435.626-00                                            Direito   \n",
       "380  067.914.806-02                                   Engenharia Civil   \n",
       "381  137.908.486-54                                 Ciências Contábeis   \n",
       "\n",
       "    Estado_civil Sexo DividaOriginal  DividaAtual MenorDivida MaiorDivida  \\\n",
       "0              C    F         298,00      703.092     703,092     703,092   \n",
       "1              I    F         226,50        226.5       75,50       75,50   \n",
       "2              C    M         829,26       829.26       86,11      104,20   \n",
       "3              S    F        3869,64    13142.878      74,964    2634,149   \n",
       "4              C    F         503,76       503.76       83,96       83,96   \n",
       "..           ...  ...            ...          ...         ...         ...   \n",
       "377            S    M        2357,77     3009.043     418,911     440,654   \n",
       "378            S    M          86,11        86.11       86,11       86,11   \n",
       "379            S    M         274,08       274.08       91,36       91,36   \n",
       "380            S    M        4344,75    14903.422    2953,944     3004,14   \n",
       "381            C    M        3083,93     3738.249     595,274     969,837   \n",
       "\n",
       "     VlrJuros VlrMulta VlrCorrecaoMonetaria  \n",
       "0     345,392    7,014              112,286  \n",
       "1        0,00     0,00                 0,00  \n",
       "2        0,00     0,00                 0,00  \n",
       "3     6945,38   120,05             2207,808  \n",
       "4        0,00     0,00                 0,00  \n",
       "..        ...      ...                  ...  \n",
       "377   429,271   50,664              175,418  \n",
       "378      0,00     0,00                 0,00  \n",
       "379      0,00     0,00                 0,00  \n",
       "380  7920,922  136,912             2500,838  \n",
       "381   361,727   66,268              229,444  \n",
       "\n",
       "[382 rows x 15 columns]"
      ]
     },
     "execution_count": 119,
     "metadata": {},
     "output_type": "execute_result"
    }
   ],
   "source": [
    "dados_inadimplentes[\"DividaAtual\"] = dados_inadimplentes[\"DividaAtual\"].str.replace(\",\",\".\").astype(\"Float64\")\n",
    "dados_inadimplentes"
   ]
  },
  {
   "cell_type": "code",
   "execution_count": null,
   "id": "3c8279dd-1913-467b-b195-1b119111e086",
   "metadata": {},
   "outputs": [],
   "source": []
  }
 ],
 "metadata": {
  "kernelspec": {
   "display_name": "Python 3 (ipykernel)",
   "language": "python",
   "name": "python3"
  },
  "language_info": {
   "codemirror_mode": {
    "name": "ipython",
    "version": 3
   },
   "file_extension": ".py",
   "mimetype": "text/x-python",
   "name": "python",
   "nbconvert_exporter": "python",
   "pygments_lexer": "ipython3",
   "version": "3.12.4"
  }
 },
 "nbformat": 4,
 "nbformat_minor": 5
}
